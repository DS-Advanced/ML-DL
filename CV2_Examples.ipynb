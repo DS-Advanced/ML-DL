{
 "cells": [
  {
   "cell_type": "code",
   "execution_count": 3,
   "id": "3cb113ab-b52f-4f8c-bbc0-97b92c51711c",
   "metadata": {},
   "outputs": [
    {
     "name": "stderr",
     "output_type": "stream",
     "text": [
      "<>:4: SyntaxWarning: invalid escape sequence '\\i'\n",
      "<>:4: SyntaxWarning: invalid escape sequence '\\i'\n",
      "C:\\Users\\ADMIN\\AppData\\Local\\Temp\\ipykernel_16792\\1289197656.py:4: SyntaxWarning: invalid escape sequence '\\i'\n",
      "  img = cv2.imread('E:\\images\\pets.jpg',1)\n"
     ]
    }
   ],
   "source": [
    "#importing the opencv module  \n",
    "import cv2  \n",
    "# using imread('path') and 1 denotes read as  color image  \n",
    "img = cv2.imread('E:\\images\\pets.jpg',1)  \n",
    "#This is using for display the image  \n",
    "cv2.imshow('image',img)  \n",
    "cv2.waitKey() # This is necessary to be required so that the image doesn't close immediately.  \n",
    "#It will run continuously until the key press.  \n",
    "cv2.destroyAllWindows() \n",
    "\n",
    "\n"
   ]
  },
  {
   "cell_type": "markdown",
   "id": "7499ba1c-9c02-44fb-a622-5fb6829acbc1",
   "metadata": {},
   "source": [
    "### Basic Operation On images"
   ]
  },
  {
   "cell_type": "code",
   "execution_count": 9,
   "id": "9af8efcf-67c2-4f18-ab0c-678f6122225f",
   "metadata": {},
   "outputs": [
    {
     "name": "stdout",
     "output_type": "stream",
     "text": [
      "[159 189 224]\n",
      "159\n",
      "[255 255 255]\n"
     ]
    },
    {
     "name": "stderr",
     "output_type": "stream",
     "text": [
      "<>:4: SyntaxWarning: invalid escape sequence '\\i'\n",
      "<>:4: SyntaxWarning: invalid escape sequence '\\i'\n",
      "C:\\Users\\ADMIN\\AppData\\Local\\Temp\\ipykernel_16792\\3938061099.py:4: SyntaxWarning: invalid escape sequence '\\i'\n",
      "  img = cv.imread(\"E:\\images\\pets.jpg\",1)\n"
     ]
    }
   ],
   "source": [
    "import numpy as np\n",
    "import cv2 as cv\n",
    "\n",
    "img = cv.imread(\"E:\\images\\pets.jpg\",1)\n",
    "px = img[100,100]\n",
    "print( px )\n",
    "blue = img[100,100,0]\n",
    "print( blue )\n",
    "img[100,100] = [255,255,255]\n",
    "print( img[100,100] )\n"
   ]
  },
  {
   "cell_type": "markdown",
   "id": "75cf6d99-7de8-450d-9bf4-1d570ad10789",
   "metadata": {},
   "source": [
    "### Image properties, Splitting and Merging Image Channels"
   ]
  },
  {
   "cell_type": "code",
   "execution_count": 16,
   "id": "ad62189a-ceb0-43da-a897-98829257ae27",
   "metadata": {},
   "outputs": [
    {
     "name": "stderr",
     "output_type": "stream",
     "text": [
      "<>:4: SyntaxWarning: invalid escape sequence '\\i'\n",
      "<>:4: SyntaxWarning: invalid escape sequence '\\i'\n",
      "C:\\Users\\ADMIN\\AppData\\Local\\Temp\\ipykernel_16792\\1590034590.py:4: SyntaxWarning: invalid escape sequence '\\i'\n",
      "  img = cv.imread(\"E:\\images\\pets.jpg\",1)\n"
     ]
    },
    {
     "name": "stdout",
     "output_type": "stream",
     "text": [
      "(360, 779, 3)\n",
      "841320\n",
      "uint8\n"
     ]
    }
   ],
   "source": [
    "import numpy as np\n",
    "import cv2 as cv\n",
    "\n",
    "img = cv.imread(\"E:\\images\\pets.jpg\",1)\n",
    "print( img.shape )\n",
    "print( img.size )\n",
    "print( img.dtype )\n",
    "\n",
    "b,g,r = cv.split(img)\n",
    "img = cv.merge((b,g,r))\n",
    "b = img[:,:,0]\n",
    "g = img[:,:,1]\n",
    "r = img[:,:,2]\n",
    "\n",
    "cv2.imshow('image',img)  \n",
    "cv2.waitKey()  \n",
    "cv2.destroyAllWindows() "
   ]
  },
  {
   "cell_type": "markdown",
   "id": "75bbaa6f-057b-4370-a486-ddaa5775048c",
   "metadata": {},
   "source": [
    "### change pixel size of an Image"
   ]
  },
  {
   "cell_type": "code",
   "execution_count": 19,
   "id": "351d25c4-0ef8-42e0-8ecc-30ce60591c22",
   "metadata": {},
   "outputs": [
    {
     "name": "stderr",
     "output_type": "stream",
     "text": [
      "<>:4: SyntaxWarning: invalid escape sequence '\\i'\n",
      "<>:4: SyntaxWarning: invalid escape sequence '\\i'\n",
      "C:\\Users\\ADMIN\\AppData\\Local\\Temp\\ipykernel_16792\\3485127761.py:4: SyntaxWarning: invalid escape sequence '\\i'\n",
      "  img = cv2.imread('E:\\images\\pets.jpg',1)\n"
     ]
    },
    {
     "name": "stdout",
     "output_type": "stream",
     "text": [
      "(360, 779, 3)\n"
     ]
    }
   ],
   "source": [
    "import cv2\n",
    "import numpy as np\n",
    "\n",
    "img = cv2.imread('E:\\images\\pets.jpg',1)\n",
    "print(img.shape)\n",
    "img_resized=cv2.resize(img, (540, 540),\n",
    "                       interpolation = cv2.INTER_NEAREST)\n",
    "#cv2.imshow('image',img)  \n",
    "cv2.imshow(\"Resized\",img_resized)\n",
    "cv2.waitKey(0)\n",
    "cv2.destroyAllWindows()\n"
   ]
  },
  {
   "cell_type": "markdown",
   "id": "6d307531-44cf-47dd-87c0-47d752506b78",
   "metadata": {},
   "source": [
    "### OpenCV Image Rotation\n"
   ]
  },
  {
   "cell_type": "code",
   "execution_count": null,
   "id": "b686b504-5eca-445a-af88-a5504c993d92",
   "metadata": {},
   "outputs": [
    {
     "name": "stderr",
     "output_type": "stream",
     "text": [
      "<>:3: SyntaxWarning: invalid escape sequence '\\i'\n",
      "<>:3: SyntaxWarning: invalid escape sequence '\\i'\n",
      "C:\\Users\\ADMIN\\AppData\\Local\\Temp\\ipykernel_14788\\1954415003.py:3: SyntaxWarning: invalid escape sequence '\\i'\n",
      "  img = cv2.imread('E:\\images\\pets.jpg',1)\n"
     ]
    }
   ],
   "source": [
    "import cv2\n",
    "\n",
    "img = cv2.imread('E:\\images\\pets.jpg',1)\n",
    "cv2.imshow(\"Actual Image\",img)\n",
    "img = cv2.rotate(img, cv2.ROTATE_180) \n",
    "cv2.imshow(\"Rotated Image\",img)\n",
    "cv2.waitKey(0)\n",
    "cv2.destroyAllWindows()\n"
   ]
  },
  {
   "cell_type": "code",
   "execution_count": null,
   "id": "a701fadb-be4b-48bb-abdd-44d759d32bd2",
   "metadata": {},
   "outputs": [],
   "source": []
  }
 ],
 "metadata": {
  "kernelspec": {
   "display_name": "Python 3 (ipykernel)",
   "language": "python",
   "name": "python3"
  },
  "language_info": {
   "codemirror_mode": {
    "name": "ipython",
    "version": 3
   },
   "file_extension": ".py",
   "mimetype": "text/x-python",
   "name": "python",
   "nbconvert_exporter": "python",
   "pygments_lexer": "ipython3",
   "version": "3.13.3"
  }
 },
 "nbformat": 4,
 "nbformat_minor": 5
}
