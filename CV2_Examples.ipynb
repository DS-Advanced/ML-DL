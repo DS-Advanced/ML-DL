{
 "cells": [
  {
   "cell_type": "markdown",
   "id": "3ca8005a-3085-492d-bd90-90218c560eab",
   "metadata": {},
   "source": [
    "\n",
    "##### ------------- Packages to Install -------------\n",
    "#### Donwload and Install OpenCV and CMake Softwares\n",
    "####  # pip install opencv-python\n",
    "####  # pip install opencv-contrib-python\n",
    "####  # pip install cmake\n",
    "####  # pip install dlib \n",
    "####  # pip install face_recognition\n",
    "##### ------------- Packages to Install -------------\n",
    "\n"
   ]
  },
  {
   "cell_type": "code",
   "execution_count": null,
   "id": "f0e1ac92-28fe-4228-8740-539ca57ee96e",
   "metadata": {},
   "outputs": [],
   "source": [
    "#importing the opencv module  \n",
    "import cv2  \n",
    "# using imread('path') and 1 denotes read as  color image  \n",
    "img = cv2.imread('E:\\images\\pets.jpg',1)  \n",
    "#This is using for display the image  \n",
    "cv2.imshow('image',img)  \n",
    "cv2.waitKey() # This is necessary to be required so that the image doesn't close immediately.  \n",
    "#It will run continuously until the key press.  \n",
    "cv2.destroyAllWindows() "
   ]
  },
  {
   "cell_type": "code",
   "execution_count": null,
   "id": "2e6a869b-4009-4317-aa95-9d90e4cc6d6f",
   "metadata": {},
   "outputs": [],
   "source": []
  },
  {
   "cell_type": "markdown",
   "id": "7499ba1c-9c02-44fb-a622-5fb6829acbc1",
   "metadata": {},
   "source": [
    "### Basic Operation On images"
   ]
  },
  {
   "cell_type": "code",
   "execution_count": 9,
   "id": "9af8efcf-67c2-4f18-ab0c-678f6122225f",
   "metadata": {},
   "outputs": [
    {
     "name": "stdout",
     "output_type": "stream",
     "text": [
      "[159 189 224]\n",
      "159\n",
      "[255 255 255]\n"
     ]
    },
    {
     "name": "stderr",
     "output_type": "stream",
     "text": [
      "<>:4: SyntaxWarning: invalid escape sequence '\\i'\n",
      "<>:4: SyntaxWarning: invalid escape sequence '\\i'\n",
      "C:\\Users\\ADMIN\\AppData\\Local\\Temp\\ipykernel_16792\\3938061099.py:4: SyntaxWarning: invalid escape sequence '\\i'\n",
      "  img = cv.imread(\"E:\\images\\pets.jpg\",1)\n"
     ]
    }
   ],
   "source": [
    "import numpy as np\n",
    "import cv2 as cv\n",
    "\n",
    "img = cv.imread(\"E:\\images\\pets.jpg\",1)\n",
    "px = img[100,100]\n",
    "print( px )\n",
    "blue = img[100,100,0]\n",
    "print( blue )\n",
    "img[100,100] = [255,255,255]\n",
    "print( img[100,100] )\n"
   ]
  },
  {
   "cell_type": "markdown",
   "id": "75cf6d99-7de8-450d-9bf4-1d570ad10789",
   "metadata": {},
   "source": [
    "### Image properties, Splitting and Merging Image Channels"
   ]
  },
  {
   "cell_type": "code",
   "execution_count": 16,
   "id": "ad62189a-ceb0-43da-a897-98829257ae27",
   "metadata": {},
   "outputs": [
    {
     "name": "stderr",
     "output_type": "stream",
     "text": [
      "<>:4: SyntaxWarning: invalid escape sequence '\\i'\n",
      "<>:4: SyntaxWarning: invalid escape sequence '\\i'\n",
      "C:\\Users\\ADMIN\\AppData\\Local\\Temp\\ipykernel_16792\\1590034590.py:4: SyntaxWarning: invalid escape sequence '\\i'\n",
      "  img = cv.imread(\"E:\\images\\pets.jpg\",1)\n"
     ]
    },
    {
     "name": "stdout",
     "output_type": "stream",
     "text": [
      "(360, 779, 3)\n",
      "841320\n",
      "uint8\n"
     ]
    }
   ],
   "source": [
    "import numpy as np\n",
    "import cv2 as cv\n",
    "\n",
    "img = cv.imread(\"E:\\images\\pets.jpg\",1)\n",
    "print( img.shape )\n",
    "print( img.size )\n",
    "print( img.dtype )\n",
    "\n",
    "b,g,r = cv.split(img)\n",
    "img = cv.merge((b,g,r))\n",
    "b = img[:,:,0]\n",
    "g = img[:,:,1]\n",
    "r = img[:,:,2]\n",
    "\n",
    "cv2.imshow('image',img)  \n",
    "cv2.waitKey()  \n",
    "cv2.destroyAllWindows() "
   ]
  },
  {
   "cell_type": "markdown",
   "id": "75bbaa6f-057b-4370-a486-ddaa5775048c",
   "metadata": {},
   "source": [
    "### change pixel size of an Image"
   ]
  },
  {
   "cell_type": "code",
   "execution_count": 19,
   "id": "351d25c4-0ef8-42e0-8ecc-30ce60591c22",
   "metadata": {},
   "outputs": [
    {
     "name": "stderr",
     "output_type": "stream",
     "text": [
      "<>:4: SyntaxWarning: invalid escape sequence '\\i'\n",
      "<>:4: SyntaxWarning: invalid escape sequence '\\i'\n",
      "C:\\Users\\ADMIN\\AppData\\Local\\Temp\\ipykernel_16792\\3485127761.py:4: SyntaxWarning: invalid escape sequence '\\i'\n",
      "  img = cv2.imread('E:\\images\\pets.jpg',1)\n"
     ]
    },
    {
     "name": "stdout",
     "output_type": "stream",
     "text": [
      "(360, 779, 3)\n"
     ]
    }
   ],
   "source": [
    "import cv2\n",
    "import numpy as np\n",
    "\n",
    "img = cv2.imread('E:\\images\\pets.jpg',1)\n",
    "print(img.shape)\n",
    "img_resized=cv2.resize(img, (540, 540),\n",
    "                       interpolation = cv2.INTER_NEAREST)\n",
    "#cv2.imshow('image',img)  \n",
    "cv2.imshow(\"Resized\",img_resized)\n",
    "cv2.waitKey(0)\n",
    "cv2.destroyAllWindows()\n"
   ]
  },
  {
   "cell_type": "markdown",
   "id": "6d307531-44cf-47dd-87c0-47d752506b78",
   "metadata": {},
   "source": [
    "### OpenCV Image Rotation\n"
   ]
  },
  {
   "cell_type": "code",
   "execution_count": null,
   "id": "b686b504-5eca-445a-af88-a5504c993d92",
   "metadata": {},
   "outputs": [
    {
     "name": "stderr",
     "output_type": "stream",
     "text": [
      "<>:3: SyntaxWarning: invalid escape sequence '\\i'\n",
      "<>:3: SyntaxWarning: invalid escape sequence '\\i'\n",
      "C:\\Users\\ADMIN\\AppData\\Local\\Temp\\ipykernel_14788\\1954415003.py:3: SyntaxWarning: invalid escape sequence '\\i'\n",
      "  img = cv2.imread('E:\\images\\pets.jpg',1)\n"
     ]
    }
   ],
   "source": [
    "import cv2\n",
    "\n",
    "img = cv2.imread('E:\\images\\pets.jpg',1)\n",
    "cv2.imshow(\"Actual Image\",img)\n",
    "img = cv2.rotate(img, cv2.ROTATE_180) \n",
    "cv2.imshow(\"Rotated Image\",img)\n",
    "cv2.waitKey(0)\n",
    "cv2.destroyAllWindows()\n"
   ]
  },
  {
   "cell_type": "markdown",
   "id": "eba593f7-2a08-46c4-af47-ff33d27eba7b",
   "metadata": {},
   "source": [
    "### Image Rotation \n"
   ]
  },
  {
   "cell_type": "code",
   "execution_count": 6,
   "id": "c328114f-9666-4950-bdb2-f1618bd71ee3",
   "metadata": {},
   "outputs": [
    {
     "name": "stderr",
     "output_type": "stream",
     "text": [
      "<>:4: SyntaxWarning: invalid escape sequence '\\i'\n",
      "<>:4: SyntaxWarning: invalid escape sequence '\\i'\n",
      "C:\\Users\\ADMIN\\AppData\\Local\\Temp\\ipykernel_13168\\1951746009.py:4: SyntaxWarning: invalid escape sequence '\\i'\n",
      "  img = cv2.imread('E:\\images\\pets.jpg',1)\n"
     ]
    }
   ],
   "source": [
    "import cv2\n",
    "import numpy as np\n",
    "\n",
    "img = cv2.imread('E:\\images\\pets.jpg',1)  \n",
    "(h, w) = img.shape[:2]\n",
    "center = (w / 2, h / 2)\n",
    "scale = 1.0\n",
    "M = cv2.getRotationMatrix2D(center, 45, scale)\n",
    "rotated45 = cv2.warpAffine(img, M, (h, w))\n",
    "M = cv2.getRotationMatrix2D(center,110, scale)\n",
    "rotated110 = cv2.warpAffine(img, M, (w, h))\n",
    "M = cv2.getRotationMatrix2D(center, 150, scale)\n",
    "rotated150 = cv2.warpAffine(img, M, (h, w))\n",
    "  \n",
    "cv2.imshow('Original Image',img)\n",
    "cv2.imshow('Image rotated by 45 degrees',rotated45)\n",
    "cv2.imshow('Image rotated by 110 degrees',rotated110)\n",
    "cv2.imshow('Image rotated by 150 degrees',rotated150)\n",
    "cv2.waitKey(0) \n",
    "cv2.destroyAllWindows() \n"
   ]
  },
  {
   "cell_type": "markdown",
   "id": "df7bda25-2cb3-428c-a304-28e63136c869",
   "metadata": {},
   "source": [
    "### OpenCV Drawing Functions"
   ]
  },
  {
   "cell_type": "code",
   "execution_count": 12,
   "id": "af76c865-1a8f-42e8-9755-5801bd26f0b7",
   "metadata": {},
   "outputs": [
    {
     "name": "stderr",
     "output_type": "stream",
     "text": [
      "<>:3: SyntaxWarning: invalid escape sequence '\\i'\n",
      "<>:3: SyntaxWarning: invalid escape sequence '\\i'\n",
      "C:\\Users\\ADMIN\\AppData\\Local\\Temp\\ipykernel_13168\\1322255919.py:3: SyntaxWarning: invalid escape sequence '\\i'\n",
      "  img = cv2.imread('E:\\images\\pets.jpg', 1)\n"
     ]
    }
   ],
   "source": [
    "import numpy as np  \n",
    "import cv2  \n",
    "img = cv2.imread('E:\\images\\pets.jpg', 1)  \n",
    "# Circle\n",
    "cv2.circle(img,(80,80), 55, (255,0,0), -1)  \n",
    "cv2.imshow('image',img)  \n",
    "# Rectangle\n",
    "cv2.rectangle(img,(15,25),(200,150),(0,0,255),5)  \n",
    "cv2.imshow('image',img)  \n",
    "# Polylines\n",
    "pts = np.array([[100,50],[200,300],[700,200],[500,100]], \n",
    "               np.int32)  \n",
    "cv2.polylines(img, [pts], True, (0,255,0), 3)  \n",
    "cv2.imshow('image',img)  \n",
    "cv2.waitKey(0)  \n",
    "cv2.destroyAllWindows() \n"
   ]
  },
  {
   "cell_type": "markdown",
   "id": "f9e4361a-9973-48f1-85df-d1ccc620f3b5",
   "metadata": {},
   "source": [
    "#### Write text on an image"
   ]
  },
  {
   "cell_type": "code",
   "execution_count": 14,
   "id": "76564c62-0a7f-4bca-86de-f149e886e5cb",
   "metadata": {},
   "outputs": [
    {
     "name": "stderr",
     "output_type": "stream",
     "text": [
      "<>:4: SyntaxWarning: invalid escape sequence '\\i'\n",
      "<>:4: SyntaxWarning: invalid escape sequence '\\i'\n",
      "C:\\Users\\ADMIN\\AppData\\Local\\Temp\\ipykernel_13168\\362121491.py:4: SyntaxWarning: invalid escape sequence '\\i'\n",
      "  img = cv2.imread('E:\\images\\pets.jpg',1)\n"
     ]
    },
    {
     "data": {
      "text/plain": [
       "-1"
      ]
     },
     "execution_count": 14,
     "metadata": {},
     "output_type": "execute_result"
    }
   ],
   "source": [
    "import numpy as np\n",
    "import cv2\n",
    "font = cv2.FONT_HERSHEY_SIMPLEX\n",
    "img = cv2.imread('E:\\images\\pets.jpg',1)\n",
    "cv2.putText(img,'Dog',(60,50), font, 1,(255,0,0),2)\n",
    "cv2.putText(img,'Parrot',(150,90), font, 1,(0,255,0),2)\n",
    "cv2.putText(img,'rabbit',(210,50), font, 1,(0,0,255),2)\n",
    "cv2.putText(img,'Cat',(360,90), font, 1,(255,0,255),2)\n",
    "\n",
    "cv2.imshow(\"image\",img)\n",
    "cv2.waitKey(0)\n"
   ]
  },
  {
   "cell_type": "markdown",
   "id": "c5925733-3f3b-40b3-8814-5a079bcce7c8",
   "metadata": {},
   "source": [
    "### Canny Edge Detection"
   ]
  },
  {
   "cell_type": "code",
   "execution_count": 7,
   "id": "ff61400c-62c9-46fb-94da-d15d61487719",
   "metadata": {},
   "outputs": [
    {
     "name": "stderr",
     "output_type": "stream",
     "text": [
      "<>:2: SyntaxWarning: invalid escape sequence '\\i'\n",
      "<>:2: SyntaxWarning: invalid escape sequence '\\i'\n",
      "C:\\Users\\ADMIN\\AppData\\Local\\Temp\\ipykernel_10196\\832501158.py:2: SyntaxWarning: invalid escape sequence '\\i'\n",
      "  img = cv2.imread('E:\\images\\flower.jpg')\n"
     ]
    },
    {
     "ename": "error",
     "evalue": "OpenCV(4.11.0) D:\\a\\opencv-python\\opencv-python\\opencv\\modules\\highgui\\src\\window.cpp:973: error: (-215:Assertion failed) size.width>0 && size.height>0 in function 'cv::imshow'\n",
     "output_type": "error",
     "traceback": [
      "\u001b[31m---------------------------------------------------------------------------\u001b[39m",
      "\u001b[31merror\u001b[39m                                     Traceback (most recent call last)",
      "\u001b[36mCell\u001b[39m\u001b[36m \u001b[39m\u001b[32mIn[7]\u001b[39m\u001b[32m, line 4\u001b[39m\n\u001b[32m      2\u001b[39m img = cv2.imread(\u001b[33m'\u001b[39m\u001b[33mE:\u001b[39m\u001b[33m\\\u001b[39m\u001b[33mimages\u001b[39m\u001b[38;5;130;01m\\f\u001b[39;00m\u001b[33mlower.jpg\u001b[39m\u001b[33m'\u001b[39m)\n\u001b[32m      3\u001b[39m edges = cv2.Canny(img,\u001b[32m200\u001b[39m,\u001b[32m300\u001b[39m,\u001b[38;5;28;01mTrue\u001b[39;00m)\n\u001b[32m----> \u001b[39m\u001b[32m4\u001b[39m \u001b[43mcv2\u001b[49m\u001b[43m.\u001b[49m\u001b[43mimshow\u001b[49m\u001b[43m(\u001b[49m\u001b[33;43m\"\u001b[39;49m\u001b[33;43mEdge Detected Image\u001b[39;49m\u001b[33;43m\"\u001b[39;49m\u001b[43m,\u001b[49m\u001b[43m \u001b[49m\u001b[43medges\u001b[49m\u001b[43m)\u001b[49m  \n\u001b[32m      5\u001b[39m cv2.imshow(\u001b[33m\"\u001b[39m\u001b[33mOriginal Image\u001b[39m\u001b[33m\"\u001b[39m, img)  \n\u001b[32m      6\u001b[39m cv2.waitKey(\u001b[32m0\u001b[39m)  \u001b[38;5;66;03m# waits until a key is pressed  \u001b[39;00m\n",
      "\u001b[31merror\u001b[39m: OpenCV(4.11.0) D:\\a\\opencv-python\\opencv-python\\opencv\\modules\\highgui\\src\\window.cpp:973: error: (-215:Assertion failed) size.width>0 && size.height>0 in function 'cv::imshow'\n"
     ]
    }
   ],
   "source": [
    "import cv2\n",
    "img = cv2.imread('E:\\images\\pets.jpg')\n",
    "edges = cv2.Canny(img,200,300,True)\n",
    "cv2.imshow(\"Edge Detected Image\", edges)  \n",
    "cv2.imshow(\"Original Image\", img)  \n",
    "cv2.waitKey(0)  # waits until a key is pressed  \n",
    "cv2.destroyAllWindows()  \n"
   ]
  },
  {
   "cell_type": "markdown",
   "id": "f9cc9702-4780-4000-9274-b000e8e2030d",
   "metadata": {},
   "source": [
    "### OpenCV Image Smoothing"
   ]
  },
  {
   "cell_type": "code",
   "execution_count": 21,
   "id": "a60e573e-581a-459c-9895-3b93b3692de8",
   "metadata": {},
   "outputs": [
    {
     "name": "stderr",
     "output_type": "stream",
     "text": [
      "<>:2: SyntaxWarning: invalid escape sequence '\\i'\n",
      "<>:2: SyntaxWarning: invalid escape sequence '\\i'\n",
      "C:\\Users\\ADMIN\\AppData\\Local\\Temp\\ipykernel_13168\\2439102606.py:2: SyntaxWarning: invalid escape sequence '\\i'\n",
      "  img = cv2.imread('E:\\images\\pets.jpg')\n"
     ]
    }
   ],
   "source": [
    "import cv2\n",
    "img = cv2.imread('E:\\images\\pets.jpg')\n",
    "cv2.imshow('Original Image',img)  \n",
    "cv2.imshow('cv2.blur output', cv2.blur(img, (3,3)))\n",
    "cv2.imshow('cv2.medianBlur output', cv2.medianBlur(img,5))\n",
    "cv2.imshow('cv2.GaussianBlur output', \n",
    "           cv2.GaussianBlur(img, (5, 5), cv2.BORDER_DEFAULT))\n",
    "cv2.imshow('bilateral Image', cv2.bilateralFilter(img,9,75,75))\n",
    "cv2.waitKey(0)\n",
    "cv2.destroyAllWindows()\n",
    " \n"
   ]
  },
  {
   "cell_type": "code",
   "execution_count": 25,
   "id": "1d12f7af-1053-4fa9-abe9-f5e97fa8d328",
   "metadata": {},
   "outputs": [
    {
     "name": "stderr",
     "output_type": "stream",
     "text": [
      "<>:4: SyntaxWarning: invalid escape sequence '\\i'\n",
      "<>:4: SyntaxWarning: invalid escape sequence '\\i'\n",
      "C:\\Users\\ADMIN\\AppData\\Local\\Temp\\ipykernel_13168\\2681380214.py:4: SyntaxWarning: invalid escape sequence '\\i'\n",
      "  image = cv2.imread('E:\\images\\cars.jpg', 1)\n",
      "C:\\Users\\ADMIN\\AppData\\Local\\Temp\\ipykernel_13168\\2681380214.py:4: SyntaxWarning: invalid escape sequence '\\i'\n",
      "  image = cv2.imread('E:\\images\\cars.jpg', 1)\n"
     ]
    },
    {
     "ename": "error",
     "evalue": "OpenCV(4.11.0) D:\\a\\opencv-python\\opencv-python\\opencv\\modules\\highgui\\src\\window.cpp:973: error: (-215:Assertion failed) size.width>0 && size.height>0 in function 'cv::imshow'\n",
     "output_type": "error",
     "traceback": [
      "\u001b[31m---------------------------------------------------------------------------\u001b[39m",
      "\u001b[31merror\u001b[39m                                     Traceback (most recent call last)",
      "\u001b[36mCell\u001b[39m\u001b[36m \u001b[39m\u001b[32mIn[25]\u001b[39m\u001b[32m, line 13\u001b[39m\n\u001b[32m      9\u001b[39m \u001b[38;5;66;03m# Finding Contours\u001b[39;00m\n\u001b[32m     10\u001b[39m \u001b[38;5;66;03m# Use a copy of the image e.g. edged.copy()\u001b[39;00m\n\u001b[32m     11\u001b[39m \u001b[38;5;66;03m# since findContours alters the image\u001b[39;00m\n\u001b[32m     12\u001b[39m contours, hierarchy = cv2.findContours(edged,cv2.RETR_EXTERNAL, cv2.CHAIN_APPROX_NONE)\n\u001b[32m---> \u001b[39m\u001b[32m13\u001b[39m \u001b[43mcv2\u001b[49m\u001b[43m.\u001b[49m\u001b[43mimshow\u001b[49m\u001b[43m(\u001b[49m\u001b[33;43m'\u001b[39;49m\u001b[33;43mOriginal\u001b[39;49m\u001b[33;43m'\u001b[39;49m\u001b[43m,\u001b[49m\u001b[43m \u001b[49m\u001b[43mimage\u001b[49m\u001b[43m)\u001b[49m\n\u001b[32m     14\u001b[39m cv2.imshow(\u001b[33m'\u001b[39m\u001b[33mCanny Edges After Contouring\u001b[39m\u001b[33m'\u001b[39m, edged)\n\u001b[32m     15\u001b[39m cv2.drawContours(image, contours, -\u001b[32m1\u001b[39m, (\u001b[32m0\u001b[39m, \u001b[32m255\u001b[39m, \u001b[32m0\u001b[39m), \u001b[32m3\u001b[39m)\n",
      "\u001b[31merror\u001b[39m: OpenCV(4.11.0) D:\\a\\opencv-python\\opencv-python\\opencv\\modules\\highgui\\src\\window.cpp:973: error: (-215:Assertion failed) size.width>0 && size.height>0 in function 'cv::imshow'\n"
     ]
    }
   ],
   "source": [
    "import cv2\n",
    "import numpy as np\n",
    "\n",
    "image = cv2.imread('E:\\images\\cars.jpg', 1)\n",
    "# Find Canny edges\n",
    "edged = cv2.Canny(image, 30, 200)\n",
    "cv2.waitKey(0)\n",
    "\n",
    "# Finding Contours\n",
    "# Use a copy of the image e.g. edged.copy()\n",
    "# since findContours alters the image\n",
    "contours, hierarchy = cv2.findContours(edged,cv2.RETR_EXTERNAL, cv2.CHAIN_APPROX_NONE)\n",
    "cv2.imshow('Original', image)\n",
    "cv2.imshow('Canny Edges After Contouring', edged)\n",
    "cv2.drawContours(image, contours, -1, (0, 255, 0), 3)\n",
    "cv2.imshow('Contours', image)\n",
    "cv2.waitKey(0)\n",
    "cv2.destroyAllWindows()\n"
   ]
  },
  {
   "cell_type": "markdown",
   "id": "e68fe93e-cc96-4891-96a7-28f725fbd151",
   "metadata": {},
   "source": [
    "### OpenCV Video Capture\n"
   ]
  },
  {
   "cell_type": "code",
   "execution_count": 3,
   "id": "3e03b77a-f2aa-42b9-ab75-c28aad1b3b3f",
   "metadata": {},
   "outputs": [
    {
     "name": "stderr",
     "output_type": "stream",
     "text": [
      "<>:5: SyntaxWarning: invalid escape sequence '\\i'\n",
      "<>:5: SyntaxWarning: invalid escape sequence '\\i'\n",
      "C:\\Users\\ADMIN\\AppData\\Local\\Temp\\ipykernel_1964\\4122492975.py:5: SyntaxWarning: invalid escape sequence '\\i'\n",
      "  cap = cv2.VideoCapture('E:\\images\\BigBuck_Video.avi')\n"
     ]
    },
    {
     "ename": "error",
     "evalue": "OpenCV(4.11.0) D:\\a\\opencv-python\\opencv-python\\opencv\\modules\\highgui\\src\\window.cpp:973: error: (-215:Assertion failed) size.width>0 && size.height>0 in function 'cv::imshow'\n",
     "output_type": "error",
     "traceback": [
      "\u001b[31m---------------------------------------------------------------------------\u001b[39m",
      "\u001b[31merror\u001b[39m                                     Traceback (most recent call last)",
      "\u001b[36mCell\u001b[39m\u001b[36m \u001b[39m\u001b[32mIn[3]\u001b[39m\u001b[32m, line 9\u001b[39m\n\u001b[32m      7\u001b[39m \u001b[38;5;28;01mwhile\u001b[39;00m (cap.isOpened()):\n\u001b[32m      8\u001b[39m   ret, frame = cap.read()\n\u001b[32m----> \u001b[39m\u001b[32m9\u001b[39m   \u001b[43mcv2\u001b[49m\u001b[43m.\u001b[49m\u001b[43mimshow\u001b[49m\u001b[43m(\u001b[49m\u001b[33;43m'\u001b[39;49m\u001b[33;43mframe\u001b[39;49m\u001b[33;43m'\u001b[39;49m\u001b[43m,\u001b[49m\u001b[43m \u001b[49m\u001b[43mframe\u001b[49m\u001b[43m)\u001b[49m\n\u001b[32m     10\u001b[39m   \u001b[38;5;28;01mif\u001b[39;00m cv2.waitKey(\u001b[32m1\u001b[39m) & \u001b[32m0xFF\u001b[39m == \u001b[38;5;28mord\u001b[39m(\u001b[33m'\u001b[39m\u001b[33mq\u001b[39m\u001b[33m'\u001b[39m):\n\u001b[32m     11\u001b[39m     \u001b[38;5;28;01mbreak\u001b[39;00m\n",
      "\u001b[31merror\u001b[39m: OpenCV(4.11.0) D:\\a\\opencv-python\\opencv-python\\opencv\\modules\\highgui\\src\\window.cpp:973: error: (-215:Assertion failed) size.width>0 && size.height>0 in function 'cv::imshow'\n"
     ]
    }
   ],
   "source": [
    "import numpy as np\n",
    "import cv2\n",
    "\n",
    "# cap = cv2.VideoCapture(0)   <---- capture video from webcam\n",
    "cap = cv2.VideoCapture('E:\\images\\BigBuck_Video.avi')\n",
    "\n",
    "while (cap.isOpened()):\n",
    "  ret, frame = cap.read()\n",
    "  cv2.imshow('frame', frame)\n",
    "  if cv2.waitKey(1) & 0xFF == ord('q'):\n",
    "    break\n",
    "\n",
    "cap.release()\n",
    "cv2.destroyAllWindows()\n"
   ]
  },
  {
   "cell_type": "markdown",
   "id": "c85e1c99-63df-4a5e-8cde-d40a97658691",
   "metadata": {},
   "source": [
    "### OpenCV Video convert into Gray and Canny Edge format"
   ]
  },
  {
   "cell_type": "code",
   "execution_count": 5,
   "id": "1e2ce867-0956-4a79-9941-be5fd706b601",
   "metadata": {},
   "outputs": [
    {
     "name": "stderr",
     "output_type": "stream",
     "text": [
      "<>:4: SyntaxWarning: invalid escape sequence '\\i'\n",
      "<>:4: SyntaxWarning: invalid escape sequence '\\i'\n",
      "C:\\Users\\ADMIN\\AppData\\Local\\Temp\\ipykernel_6316\\2032852486.py:4: SyntaxWarning: invalid escape sequence '\\i'\n",
      "  cap = cv2.VideoCapture('E:\\images\\BigBuck_Video.avi')\n"
     ]
    },
    {
     "ename": "error",
     "evalue": "OpenCV(4.11.0) D:\\a\\opencv-python\\opencv-python\\opencv\\modules\\imgproc\\src\\color.cpp:199: error: (-215:Assertion failed) !_src.empty() in function 'cv::cvtColor'\n",
     "output_type": "error",
     "traceback": [
      "\u001b[31m---------------------------------------------------------------------------\u001b[39m",
      "\u001b[31merror\u001b[39m                                     Traceback (most recent call last)",
      "\u001b[36mCell\u001b[39m\u001b[36m \u001b[39m\u001b[32mIn[5]\u001b[39m\u001b[32m, line 8\u001b[39m\n\u001b[32m      6\u001b[39m \u001b[38;5;28;01mwhile\u001b[39;00m (cap.isOpened()):\n\u001b[32m      7\u001b[39m   ret, frame = cap.read()\n\u001b[32m----> \u001b[39m\u001b[32m8\u001b[39m   gray = \u001b[43mcv2\u001b[49m\u001b[43m.\u001b[49m\u001b[43mcvtColor\u001b[49m\u001b[43m(\u001b[49m\u001b[43mframe\u001b[49m\u001b[43m,\u001b[49m\u001b[43m \u001b[49m\u001b[43mcv2\u001b[49m\u001b[43m.\u001b[49m\u001b[43mCOLOR_BGR2GRAY\u001b[49m\u001b[43m)\u001b[49m\n\u001b[32m      9\u001b[39m   edges = cv2.Canny(gray,\u001b[32m200\u001b[39m,\u001b[32m300\u001b[39m,\u001b[38;5;28;01mTrue\u001b[39;00m)\n\u001b[32m     10\u001b[39m   cv2.imshow(\u001b[33m'\u001b[39m\u001b[33mframe\u001b[39m\u001b[33m'\u001b[39m, edges)\n",
      "\u001b[31merror\u001b[39m: OpenCV(4.11.0) D:\\a\\opencv-python\\opencv-python\\opencv\\modules\\imgproc\\src\\color.cpp:199: error: (-215:Assertion failed) !_src.empty() in function 'cv::cvtColor'\n"
     ]
    }
   ],
   "source": [
    "import numpy as np\n",
    "import cv2\n",
    "\n",
    "cap = cv2.VideoCapture('E:\\images\\BigBuck_Video.avi')\n",
    "\n",
    "while (cap.isOpened()):\n",
    "#  to capture Frame\n",
    "  ret, frame = cap.read()\n",
    "#  to convert into Gray color\n",
    "  gray = cv2.cvtColor(frame, cv2.COLOR_BGR2GRAY)\n",
    "#  to conert to Canny Edge format\n",
    "  edges = cv2.Canny(gray,200,300,True)\n",
    "  cv2.imshow('frame', edges)\n",
    "  if cv2.waitKey(1) & 0xFF == ord('q'):\n",
    "    break\n",
    "\n",
    "cap.release()\n",
    "cv2.destroyAllWindows()"
   ]
  },
  {
   "cell_type": "markdown",
   "id": "8d401ced-2b02-4bdc-928b-b7b01c4d1107",
   "metadata": {},
   "source": [
    "### to Capture a Video from Web-cam and write into a file"
   ]
  },
  {
   "cell_type": "code",
   "execution_count": null,
   "id": "bc312e87-62bb-4321-b092-5d4408b63086",
   "metadata": {},
   "outputs": [],
   "source": [
    "import numpy as np\n",
    "import cv2\n",
    " \n",
    "cap = cv2.VideoCapture(0)\n",
    "# Define the codec and create VideoWriter object\n",
    "fourcc = cv2.VideoWriter_fourcc(*'XVID')\n",
    "out = cv2.VideoWriter('E:\\images\\output.avi',fourcc, 20.0, (640,480), True)\n",
    " \n",
    "while(cap.isOpened()):\n",
    "    ret, frame = cap.read()\n",
    "    if ret==True:\n",
    "        frame = cv2.flip(frame,0)\n",
    "        # write the flipped frame\n",
    "        out.write(frame)\n",
    " \n",
    "        cv2.imshow('frame',frame)\n",
    "        if cv2.waitKey(1) & 0xFF == ord('q'):\n",
    "            break\n",
    "    else:\n",
    "        break\n",
    " \n",
    "# Release everything if job is finished\n",
    "cap.release()\n",
    "out.release()\n",
    "cv2.destroyAllWindows()\n"
   ]
  },
  {
   "cell_type": "code",
   "execution_count": null,
   "id": "83015476-9fcb-46bd-b7d7-22d38c554204",
   "metadata": {},
   "outputs": [],
   "source": [
    "### write an image"
   ]
  },
  {
   "cell_type": "code",
   "execution_count": 9,
   "id": "6f7ada41-fd26-4207-bffb-00ea644d6422",
   "metadata": {},
   "outputs": [
    {
     "name": "stderr",
     "output_type": "stream",
     "text": [
      "<>:2: SyntaxWarning: invalid escape sequence '\\i'\n",
      "<>:4: SyntaxWarning: invalid escape sequence '\\i'\n",
      "<>:7: SyntaxWarning: invalid escape sequence '\\i'\n",
      "<>:2: SyntaxWarning: invalid escape sequence '\\i'\n",
      "<>:4: SyntaxWarning: invalid escape sequence '\\i'\n",
      "<>:7: SyntaxWarning: invalid escape sequence '\\i'\n",
      "C:\\Users\\ADMIN\\AppData\\Local\\Temp\\ipykernel_10196\\291663032.py:2: SyntaxWarning: invalid escape sequence '\\i'\n",
      "  img = cv2.imread('E:\\images\\pets.jpg')\n",
      "C:\\Users\\ADMIN\\AppData\\Local\\Temp\\ipykernel_10196\\291663032.py:4: SyntaxWarning: invalid escape sequence '\\i'\n",
      "  cv2.imwrite('E:\\images\\out.png',img)\n",
      "C:\\Users\\ADMIN\\AppData\\Local\\Temp\\ipykernel_10196\\291663032.py:7: SyntaxWarning: invalid escape sequence '\\i'\n",
      "  print(\" Image Write into : E:\\images\\out.png\")\n"
     ]
    },
    {
     "name": "stdout",
     "output_type": "stream",
     "text": [
      " Image Write into : E:\\images\\out.png\n"
     ]
    }
   ],
   "source": [
    "import cv2\n",
    "img = cv2.imread('E:\\images\\pets.jpg')\n",
    "cv2.imshow(\"Original Image\",img)  \n",
    "cv2.imwrite('E:\\images\\out.png',img)\n",
    "cv2.waitKey(0) \n",
    "cv2.destroyAllWindows()  \n",
    "print(\" Image Write into : E:\\images\\out.png\")\n"
   ]
  },
  {
   "cell_type": "code",
   "execution_count": 10,
   "id": "278b7c07-9a2e-4dd1-bb47-4aaa88cabd25",
   "metadata": {},
   "outputs": [
    {
     "name": "stderr",
     "output_type": "stream",
     "text": [
      "<>:3: SyntaxWarning: invalid escape sequence '\\i'\n",
      "<>:5: SyntaxWarning: invalid escape sequence '\\i'\n",
      "<>:6: SyntaxWarning: invalid escape sequence '\\i'\n",
      "<>:3: SyntaxWarning: invalid escape sequence '\\i'\n",
      "<>:5: SyntaxWarning: invalid escape sequence '\\i'\n",
      "<>:6: SyntaxWarning: invalid escape sequence '\\i'\n",
      "C:\\Users\\ADMIN\\AppData\\Local\\Temp\\ipykernel_10196\\2910417664.py:3: SyntaxWarning: invalid escape sequence '\\i'\n",
      "  image = cv2.imread('E:\\images\\Penguins.jpg')\n",
      "C:\\Users\\ADMIN\\AppData\\Local\\Temp\\ipykernel_10196\\2910417664.py:5: SyntaxWarning: invalid escape sequence '\\i'\n",
      "  cv2.imwrite('E:\\images\\edges_Penguins.jpg',cv2.Canny(image,200,300))\n",
      "C:\\Users\\ADMIN\\AppData\\Local\\Temp\\ipykernel_10196\\2910417664.py:6: SyntaxWarning: invalid escape sequence '\\i'\n",
      "  cv2.imshow('edges', cv2.imread('E:\\images\\edges_Penguins.jpg'))\n"
     ]
    }
   ],
   "source": [
    "import cv2\n",
    "import numpy as np\n",
    "image = cv2.imread('E:\\images\\Penguins.jpg')\n",
    "cv2.imshow('Original', image)\n",
    "cv2.imwrite('E:\\images\\edges_Penguins.jpg',cv2.Canny(image,200,300))\n",
    "cv2.imshow('edges', cv2.imread('E:\\images\\edges_Penguins.jpg'))\n",
    "cv2.waitKey(0)\n",
    "cv2.destroyAllWindows()\n"
   ]
  },
  {
   "cell_type": "markdown",
   "id": "c47e1fa5-f683-4492-89cf-c281a9bd976b",
   "metadata": {},
   "source": [
    "### Face Detection"
   ]
  },
  {
   "cell_type": "code",
   "execution_count": 4,
   "id": "2b184c5b-f6e2-4746-83fc-cd87e7c074d7",
   "metadata": {},
   "outputs": [
    {
     "name": "stderr",
     "output_type": "stream",
     "text": [
      "<>:3: SyntaxWarning: invalid escape sequence '\\i'\n",
      "<>:4: SyntaxWarning: invalid escape sequence '\\i'\n",
      "<>:9: SyntaxWarning: invalid escape sequence '\\i'\n",
      "<>:10: SyntaxWarning: invalid escape sequence '\\i'\n",
      "<>:3: SyntaxWarning: invalid escape sequence '\\i'\n",
      "<>:4: SyntaxWarning: invalid escape sequence '\\i'\n",
      "<>:9: SyntaxWarning: invalid escape sequence '\\i'\n",
      "<>:10: SyntaxWarning: invalid escape sequence '\\i'\n",
      "C:\\Users\\ADMIN\\AppData\\Local\\Temp\\ipykernel_13456\\620985572.py:3: SyntaxWarning: invalid escape sequence '\\i'\n",
      "  face_detection=cv2.CascadeClassifier('E:\\images\\haarcascade_frontalface_default.xml')\n",
      "C:\\Users\\ADMIN\\AppData\\Local\\Temp\\ipykernel_13456\\620985572.py:4: SyntaxWarning: invalid escape sequence '\\i'\n",
      "  img = cv2.imread('E:\\images\\AB.jpg')\n",
      "C:\\Users\\ADMIN\\AppData\\Local\\Temp\\ipykernel_13456\\620985572.py:9: SyntaxWarning: invalid escape sequence '\\i'\n",
      "  cv2.imwrite('E:\\images\\Face_AB.jpg',img)\n",
      "C:\\Users\\ADMIN\\AppData\\Local\\Temp\\ipykernel_13456\\620985572.py:10: SyntaxWarning: invalid escape sequence '\\i'\n",
      "  cv2.imshow('Face', cv2.imread('E:\\images\\Face_AB.jpg'))\n"
     ]
    }
   ],
   "source": [
    "import cv2\n",
    "import numpy as np\n",
    "face_detection=cv2.CascadeClassifier('E:\\images\\haarcascade_frontalface_default.xml')\n",
    "img = cv2.imread('E:\\images\\AB.jpg')\n",
    "gray = cv2.cvtColor(img, cv2.COLOR_BGR2GRAY)\n",
    "faces = face_detection.detectMultiScale(gray, 1.3, 5)\n",
    "for (x,y,w,h) in faces:\n",
    "  img = cv2.rectangle(img,(x,y),(x+w, y+h),(255,0,0),3)\n",
    "  cv2.imwrite('E:\\images\\Face_AB.jpg',img)\n",
    "cv2.imshow('Face', cv2.imread('E:\\images\\Face_AB.jpg'))\n",
    "cv2.waitKey(0)\n",
    "cv2.destroyAllWindows()\n"
   ]
  },
  {
   "cell_type": "markdown",
   "id": "c5125f73-a977-414a-b06a-9b5d3f2eb47f",
   "metadata": {},
   "source": [
    "### Edge Detection"
   ]
  },
  {
   "cell_type": "code",
   "execution_count": 2,
   "id": "4f4ded2f-e5ba-42eb-9965-a325bd19a82a",
   "metadata": {},
   "outputs": [
    {
     "name": "stderr",
     "output_type": "stream",
     "text": [
      "<>:4: SyntaxWarning: invalid escape sequence '\\i'\n",
      "<>:4: SyntaxWarning: invalid escape sequence '\\i'\n",
      "C:\\Users\\ADMIN\\AppData\\Local\\Temp\\ipykernel_14512\\3102578434.py:4: SyntaxWarning: invalid escape sequence '\\i'\n",
      "  image = cv2.imread('E:\\images\\emp.jpg')\n"
     ]
    }
   ],
   "source": [
    "import cv2\n",
    "\n",
    "# Loading image from a file\n",
    "image = cv2.imread('E:\\images\\emp.jpg')\n",
    "# Displaying an image in a window\n",
    "cv2.imshow('Actual Image', image)\n",
    "\n",
    "gray_image = cv2.cvtColor(image, cv2.COLOR_BGR2GRAY)\n",
    "\n",
    "# Displaying the grayscale image\n",
    "cv2.imshow('Gray Image', gray_image)\n",
    "edges = cv2.Canny(gray_image, 50, 150)\n",
    "\n",
    "# Displaying the edge-detected image\n",
    "cv2.imshow('Edges', edges)\n",
    "cv2.waitKey(0)\n",
    "cv2.destroyAllWindows()\n",
    "\n"
   ]
  },
  {
   "cell_type": "markdown",
   "id": "ebfaa88e-e9bc-4b29-b1f4-efda570fa871",
   "metadata": {},
   "source": [
    "### Resizing and Rotating Images"
   ]
  },
  {
   "cell_type": "code",
   "execution_count": 3,
   "id": "b2571a2d-7508-4cab-9977-dc1cd4dc04d8",
   "metadata": {},
   "outputs": [
    {
     "name": "stderr",
     "output_type": "stream",
     "text": [
      "<>:4: SyntaxWarning: invalid escape sequence '\\i'\n",
      "<>:4: SyntaxWarning: invalid escape sequence '\\i'\n",
      "C:\\Users\\ADMIN\\AppData\\Local\\Temp\\ipykernel_14512\\3675501585.py:4: SyntaxWarning: invalid escape sequence '\\i'\n",
      "  image = cv2.imread('E:\\images\\emp.jpg')\n"
     ]
    }
   ],
   "source": [
    "import cv2\n",
    "\n",
    "# Loading image from a file\n",
    "image = cv2.imread('E:\\images\\emp.jpg')\n",
    "\n",
    "# Displaying an image in a window\n",
    "cv2.imshow('Actual Image', image)\n",
    "cv2.waitKey(0)\n",
    "\n",
    "width = 1050\n",
    "height = 800\n",
    "resized_image = cv2.resize(image, (width, height))\n",
    "\n",
    "# Rotating the image by 45 degrees\n",
    "rotation_matrix = cv2.getRotationMatrix2D((width / 2, height / 2), 45, 1)\n",
    "rotated_image = cv2.warpAffine(resized_image, rotation_matrix, (width, height))\n",
    "\n",
    "# Displaying the resized and rotated images\n",
    "cv2.imshow('Resized Image', resized_image)\n",
    "cv2.imshow('Rotated Image', rotated_image)\n",
    "\n",
    "cv2.waitKey(0)\n",
    "cv2.destroyAllWindows()\n"
   ]
  },
  {
   "cell_type": "markdown",
   "id": "576126e4-7b10-4c02-b789-3505f11eaf07",
   "metadata": {},
   "source": [
    "### Loading and Processing Videos"
   ]
  },
  {
   "cell_type": "code",
   "execution_count": 1,
   "id": "d5e25e76-7656-4463-8109-aa4c2e15e527",
   "metadata": {},
   "outputs": [
    {
     "name": "stderr",
     "output_type": "stream",
     "text": [
      "<>:4: SyntaxWarning: invalid escape sequence '\\i'\n",
      "<>:4: SyntaxWarning: invalid escape sequence '\\i'\n",
      "C:\\Users\\ADMIN\\AppData\\Local\\Temp\\ipykernel_14156\\1300400508.py:4: SyntaxWarning: invalid escape sequence '\\i'\n",
      "  cap = cv2.VideoCapture('E:\\images\\BigBuck_Video.avi')\n",
      "C:\\Users\\ADMIN\\AppData\\Local\\Temp\\ipykernel_14156\\1300400508.py:4: SyntaxWarning: invalid escape sequence '\\i'\n",
      "  cap = cv2.VideoCapture('E:\\images\\BigBuck_Video.avi')\n"
     ]
    },
    {
     "ename": "error",
     "evalue": "OpenCV(4.11.0) D:\\a\\opencv-python\\opencv-python\\opencv\\modules\\highgui\\src\\window.cpp:973: error: (-215:Assertion failed) size.width>0 && size.height>0 in function 'cv::imshow'\n",
     "output_type": "error",
     "traceback": [
      "\u001b[31m---------------------------------------------------------------------------\u001b[39m",
      "\u001b[31merror\u001b[39m                                     Traceback (most recent call last)",
      "\u001b[36mCell\u001b[39m\u001b[36m \u001b[39m\u001b[32mIn[1]\u001b[39m\u001b[32m, line 8\u001b[39m\n\u001b[32m      6\u001b[39m \u001b[38;5;28;01mwhile\u001b[39;00m (cap.isOpened()):\n\u001b[32m      7\u001b[39m   ret, frame = cap.read()\n\u001b[32m----> \u001b[39m\u001b[32m8\u001b[39m   \u001b[43mcv2\u001b[49m\u001b[43m.\u001b[49m\u001b[43mimshow\u001b[49m\u001b[43m(\u001b[49m\u001b[33;43m'\u001b[39;49m\u001b[33;43mframe\u001b[39;49m\u001b[33;43m'\u001b[39;49m\u001b[43m,\u001b[49m\u001b[43m \u001b[49m\u001b[43mframe\u001b[49m\u001b[43m)\u001b[49m\n\u001b[32m     10\u001b[39m   \u001b[38;5;28;01mif\u001b[39;00m cv2.waitKey(\u001b[32m1\u001b[39m) & \u001b[32m0xFF\u001b[39m == \u001b[38;5;28mord\u001b[39m(\u001b[33m'\u001b[39m\u001b[33mq\u001b[39m\u001b[33m'\u001b[39m):\n\u001b[32m     11\u001b[39m     \u001b[38;5;28;01mbreak\u001b[39;00m\n",
      "\u001b[31merror\u001b[39m: OpenCV(4.11.0) D:\\a\\opencv-python\\opencv-python\\opencv\\modules\\highgui\\src\\window.cpp:973: error: (-215:Assertion failed) size.width>0 && size.height>0 in function 'cv::imshow'\n"
     ]
    }
   ],
   "source": [
    "import numpy as np\n",
    "import cv2\n",
    "\n",
    "cap = cv2.VideoCapture('E:\\images\\BigBuck_Video.avi')\n",
    "\n",
    "while (cap.isOpened()):\n",
    "  ret, frame = cap.read()\n",
    "  cv2.imshow('frame', frame)\n",
    "\n",
    "  if cv2.waitKey(1) & 0xFF == ord('q'):\n",
    "    break\n",
    "cap.release()\n",
    "#cv2.destroyAllWindows()\n",
    "\n",
    "while (cap.isOpened()):\n",
    "  ret, frame = cap.read()\n",
    "\n",
    "\n",
    "  cv2.imshow('frame', gray)\n",
    "\n",
    "  if cv2.waitKey(1) & 0xFF == ord('q'):\n",
    "    break\n",
    "cap.release()\n",
    "#cv2.destroyAllWindows()\n",
    "\n",
    "while (cap.isOpened()):\n",
    "  ret, frame = cap.read()\n",
    "  gray_frame = cv2.cvtColor(frame, cv2.COLOR_BGR2GRAY)\n",
    "  edges_frame = cv2.Canny(gray_frame, 50, 150)\n",
    "  cv2.imshow('Edges Video', edges_frame)\n",
    "  if cv2.waitKey(1) & 0xFF == ord('q'):\n",
    "    break\n",
    "cap.release()\n",
    "cv2.destroyAllWindows()\n"
   ]
  },
  {
   "cell_type": "markdown",
   "id": "2023687b-c060-4123-88e5-84cc3b8a1ff6",
   "metadata": {},
   "source": [
    "### Object Detection and People Detection"
   ]
  },
  {
   "cell_type": "code",
   "execution_count": 7,
   "id": "34b9323e-52d3-4dbc-92b8-e301087766ed",
   "metadata": {},
   "outputs": [
    {
     "name": "stderr",
     "output_type": "stream",
     "text": [
      "<>:4: SyntaxWarning: invalid escape sequence '\\i'\n",
      "<>:4: SyntaxWarning: invalid escape sequence '\\i'\n",
      "C:\\Users\\ADMIN\\AppData\\Local\\Temp\\ipykernel_10992\\1459891997.py:4: SyntaxWarning: invalid escape sequence '\\i'\n",
      "  image = cv2.imread('E:\\images\\objects.jpg')\n"
     ]
    }
   ],
   "source": [
    "import cv2\n",
    "import numpy as np\n",
    "\n",
    "image = cv2.imread('E:\\images\\objects.jpg')\n",
    "cv2.waitKey(0)\n",
    "img_resized=cv2.resize\n",
    "(image, (540, 540),interpolation = cv2.INTER_NEAREST)\n",
    "cv2.imshow(\"Resized\",img_resized)\n",
    "cv2.waitKey(0)\n",
    "gray = cv2.cvtColor(img_resized, cv2.COLOR_BGR2GRAY)\n",
    "cv2.imshow(\"Gray Image\",gray)\n",
    "cv2.waitKey(0)\n",
    "edged = cv2.Canny(gray, 30, 200)\n",
    "cv2.imshow(\"Canny Image\",edged)\n",
    "cv2.waitKey(0)\n",
    "\n",
    "# Finding Contours\n",
    "# Use a copy of the image e.g. edged.copy()\n",
    "# since findContours alters the image\n",
    "contours, hierarchy = cv2.findContours(edged,\n",
    "    cv2.RETR_EXTERNAL, cv2.CHAIN_APPROX_NONE)\n",
    "\n",
    "# Draw all contours\n",
    "# -1 signifies drawing all contours\n",
    "cv2.drawContours(img_resized, contours, -1, (0, 255, 0), 3)\n",
    "\n",
    "cv2.imshow('Contours', img_resized)\n",
    "cv2.waitKey(0)\n",
    "cv2.destroyAllWindows()\n"
   ]
  },
  {
   "cell_type": "markdown",
   "id": "21791d93-fe06-4976-a837-7fc71b3eb8f9",
   "metadata": {},
   "source": [
    "### Face Recognition with Python and OpenCV\n",
    "##### ------------- Packages to Install -------------\n",
    "#### Donwload and Install OpenCV and CMake Softwares\n",
    "####  # pip install opencv-python\n",
    "####  # pip install opencv-contrib-python\n",
    "####  # pip install cmake\n",
    "####  # pip install dlib \n",
    "####  # pip install face_recognition\n",
    "##### ------------- Packages to Install -------------\n"
   ]
  },
  {
   "cell_type": "code",
   "execution_count": 2,
   "id": "dade1422-5a5a-458d-b811-814fb53b680d",
   "metadata": {},
   "outputs": [],
   "source": [
    "import cv2\n",
    "import face_recognition as fr\n",
    "\n",
    "\n",
    "imgmain = fr.load_image_file('bid.jpg')\n",
    "imgmain = cv2.cvtColor(imgmain, cv2.COLOR_BGR2RGB)\n",
    "\n",
    "faceLoc = fr.face_locations(imgmain)[0]\n",
    "encodeElon = fr.face_encodings(imgmain)[0]\n",
    "cv2.rectangle(imgmain, (faceLoc[3], faceLoc[0]),\n",
    "              (faceLoc[1], faceLoc[2]), (255, 0, 255), 2)\n",
    "cv2.imshow('Main Image', imgmain)\n",
    "\n",
    "cv2.waitKey(0)\n",
    "cv2.destroyAllWindows()\n"
   ]
  },
  {
   "cell_type": "code",
   "execution_count": 10,
   "id": "d6eb45da-2bf1-406a-947c-aeed3b0a384c",
   "metadata": {},
   "outputs": [],
   "source": [
    "\n",
    " import cv2\n",
    " import numpy as np\n",
    "\n",
    " # path to input image is specified and\n",
    " # image is loaded with imread command\n",
    " image = cv2.imread('car.jpg')\n",
    "\n",
    " # to convert the image in grayscale\n",
    " img = cv2.cvtColor(image, cv2.COLOR_BGR2GRAY)\n",
    "\n",
    " ret, th1 = cv2.threshold(img, 160, 255, cv2.THRESH_BINARY)\n",
    "\n",
    " th2 = cv2.adaptiveThreshold(img, 255, cv2.ADAPTIVE_THRESH_MEAN_C,\n",
    "                             cv2.THRESH_BINARY, 11, 2)\n",
    " th3 = cv2.adaptiveThreshold(img, 255, cv2.ADAPTIVE_THRESH_GAUSSIAN_C,\n",
    "                             cv2.THRESH_BINARY, 11, 2)\n",
    " cv2.imshow('Original', image)\n",
    " cv2.imshow('Binary Threshold', th1)\n",
    " cv2.imshow('Adaptive Threshold', th2)\n",
    " cv2.imshow('Gaussain Adaptive Threshold', th3)\n",
    "\n",
    " # De-allocate any associated memory usage\n",
    " cv2.waitKey(0)\n",
    " cv2.destroyAllWindows()"
   ]
  },
  {
   "cell_type": "code",
   "execution_count": 15,
   "id": "1b0a1577-c919-4e3c-91f9-3039e730c045",
   "metadata": {},
   "outputs": [
    {
     "ename": "NameError",
     "evalue": "name 'cap' is not defined",
     "output_type": "error",
     "traceback": [
      "\u001b[31m---------------------------------------------------------------------------\u001b[39m",
      "\u001b[31mNameError\u001b[39m                                 Traceback (most recent call last)",
      "\u001b[36mCell\u001b[39m\u001b[36m \u001b[39m\u001b[32mIn[15]\u001b[39m\u001b[32m, line 280\u001b[39m\n\u001b[32m      1\u001b[39m \u001b[38;5;66;03m# import cv2\u001b[39;00m\n\u001b[32m      2\u001b[39m \u001b[38;5;66;03m# import numpy as np\u001b[39;00m\n\u001b[32m      3\u001b[39m \u001b[38;5;66;03m#\u001b[39;00m\n\u001b[32m   (...)\u001b[39m\u001b[32m    278\u001b[39m \u001b[38;5;66;03m#   if cv2.waitKey(1) & 0xFF == ord('q'):\u001b[39;00m\n\u001b[32m    279\u001b[39m \u001b[38;5;66;03m#     break\u001b[39;00m\n\u001b[32m--> \u001b[39m\u001b[32m280\u001b[39m \u001b[43mcap\u001b[49m.release()\n\u001b[32m    281\u001b[39m cv2.destroyAllWindows()\n\u001b[32m    286\u001b[39m \u001b[38;5;66;03m# import cv2\u001b[39;00m\n\u001b[32m    287\u001b[39m \u001b[38;5;66;03m# import numpy as np\u001b[39;00m\n\u001b[32m    288\u001b[39m \u001b[38;5;66;03m#\u001b[39;00m\n\u001b[32m   (...)\u001b[39m\u001b[32m    418\u001b[39m \u001b[38;5;66;03m# cap.release()\u001b[39;00m\n\u001b[32m    419\u001b[39m \u001b[38;5;66;03m# cv2.destroyWindow('face_detect')\u001b[39;00m\n",
      "\u001b[31mNameError\u001b[39m: name 'cap' is not defined"
     ]
    }
   ],
   "source": [
    "\n",
    "# import cv2\n",
    "# import numpy as np\n",
    "#\n",
    "# image = cv2.imread('d:\\car.jpg', 1)\n",
    "# # Find Canny edges\n",
    "# edged = cv2.Canny(image, 30, 200)\n",
    "# cv2.waitKey(0)\n",
    "#\n",
    "# # Finding Contours\n",
    "# # Use a copy of the image e.g. edged.copy()\n",
    "# # since findContours alters the image\n",
    "# contours, hierarchy = cv2.findContours(edged,\n",
    "#                                        cv2.RETR_EXTERNAL, cv2.CHAIN_APPROX_NONE)\n",
    "# cv2.imshow('Original', image)\n",
    "# cv2.imshow('Canny Edges After Contouring', edged)\n",
    "#\n",
    "# cv2.drawContours(image, contours, -1, (0, 255, 0), 3)\n",
    "#\n",
    "# cv2.imshow('Contours', image)\n",
    "# cv2.waitKey(0)\n",
    "# cv2.destroyAllWindows()\n",
    "\n",
    "# import cv2\n",
    "# import numpy as np\n",
    "#\n",
    "#\n",
    "# # Creating mouse callback function\n",
    "# def draw_circle(event, x, y, flags, param):\n",
    "#   if (event == cv2.EVENT_LBUTTONDBLCLK):\n",
    "#     cv2.circle(img, (x, y), 50, (x, y ,x+y), -1)\n",
    "#   # Creating a black image, a window and bind the function to window\n",
    "#\n",
    "#\n",
    "# img = np.zeros((512, 512, 3), np.uint8)\n",
    "# cv2.namedWindow('image')\n",
    "# cv2.setMouseCallback('image', draw_circle)\n",
    "# while (1):\n",
    "#   cv2.imshow('image', img)\n",
    "#   if cv2.waitKey(1) & 0xFF == ord('q'):\n",
    "#     break\n",
    "#\n",
    "# cv2.destroyAllWindows()\n",
    "\n",
    "#\n",
    "# import cv2 as cv\n",
    "# import numpy as np\n",
    "# from matplotlib import pyplot as plt\n",
    "#\n",
    "# img = cv.imread('d:\\boat_headphones.jpg',0)\n",
    "# img2 = img.copy()\n",
    "# template = cv.imread('d:\\boat_logo.jpg',0)\n",
    "#\n",
    "# cv.imshow('headphone', img)\n",
    "# cv.imshow('logo', template)\n",
    "# cv.waitKey(0)\n",
    "# cv.destroyAllWindows()\n",
    "#\n",
    "# w, h = template.shape[::-1]\n",
    "# # All the 6 methods for comparison in a list\n",
    "# # Apply template Matching\n",
    "# res = cv.matchTemplate(img,template,eval('cv.TM_CCOEFF'))\n",
    "# min_val, max_val, min_loc, max_loc = cv.minMaxLoc(res)\n",
    "# # If the method is TM_SQDIFF or TM_SQDIFF_NORMED, take minimum\n",
    "# top_left = max_loc\n",
    "# bottom_right = (top_left[0] + w, top_left[1] + h)\n",
    "# cv.rectangle(img,top_left, bottom_right, 255, 2)\n",
    "# plt.subplot(121),plt.imshow(res,cmap = 'gray')\n",
    "# plt.title('Matching Result'), plt.xticks([]), plt.yticks([])\n",
    "# plt.subplot(122),plt.imshow(img,cmap = 'gray')\n",
    "# plt.title('Detected Point'), plt.xticks([]), plt.yticks([])\n",
    "# plt.show()\n",
    "\n",
    "#\n",
    "# import numpy as np\n",
    "# import cv2\n",
    "#\n",
    "# capture = cv2.VideoCapture(0)\n",
    "#\n",
    "# while (True):\n",
    "#   # Capture frame-by-frame\n",
    "#   ret, frame = cap.read()\n",
    "#\n",
    "#   # Our operations on the frame come here\n",
    "#   gray = cv2.cvtColor(frame, cv2.COLOR_BGR2GRAY)\n",
    "#\n",
    "#   # Display the resulting frame\n",
    "#   cv2.imshow('frame', gray)\n",
    "#   if cv2.waitKey(1) & 0xFF == ord('q'):\n",
    "#     break\n",
    "#\n",
    "# # When everything done, release the capture\n",
    "# capture.release()\n",
    "# cv2.destroyAllWindows()\n",
    "\n",
    "#\n",
    "# import numpy as nps\n",
    "# import cv2\n",
    "#\n",
    "# cap = cv2.VideoCapture('d:/BigBuck_Video.avi')\n",
    "#\n",
    "# while (cap.isOpened()):\n",
    "#   ret, frame = cap.read()\n",
    "#\n",
    "#   gray = cv2.cvtColor(frame, cv2.COLOR_BGR2GRAY)\n",
    "#\n",
    "#   #cv2.imshow('frame', frame)\n",
    "#   #cv2.imshow('frame', gray)\n",
    "#   cv2.imshow('frame', frame)\n",
    "#\n",
    "#   if cv2.waitKey(1) & 0xFF == ord('q'):\n",
    "#     break\n",
    "#\n",
    "# cap.release()\n",
    "# cv2.destroyAllWindows()\n",
    "\n",
    "# import numpy as np\n",
    "# import cv2\n",
    "#\n",
    "# cap = cv2.VideoCapture(0)\n",
    "#\n",
    "# # Define the codec and create VideoWriter object\n",
    "# fourcc = cv2.VideoWriter_fourcc(*'XVID')\n",
    "# out = cv2.VideoWriter('output.avi', fourcc, 20.0, (640, 480))\n",
    "#\n",
    "# while (cap.isOpened()):\n",
    "#   ret, frame = cap.read()\n",
    "#   if ret == True:\n",
    "#     frame = cv2.flip(frame, 0)\n",
    "#\n",
    "#     # write the flipped frame\n",
    "#     out.write(frame)\n",
    "#\n",
    "#     cv2.imshow('frame', frame)\n",
    "#     if cv2.waitKey(1) & 0xFF == ord('q'):\n",
    "#       break\n",
    "#   else:\n",
    "#     break\n",
    "#\n",
    "# # Release everything if job is finished\n",
    "# cap.release()\n",
    "# out.release()\n",
    "# cv2.destroyAllWindows()\n",
    "\n",
    "# import cv2 # opencv 3.4.2+ required\n",
    "# import os\n",
    "# import numpy as np\n",
    "# import matplotlib.pyplot as plt\n",
    "# img = cv.imread('d:\\car.jpg',0)\n",
    "# img = cv2.imread(img_path, cv2.IMREAD_GRAYSCALE)\n",
    "# img_input = img.copy()\n",
    "#\n",
    "# # convert BGR to RGB\n",
    "# img = cv2.cvtColor(img, cv2.COLOR_GRAY2RGB)\n",
    "#\n",
    "# img_rgb = img.copy()\n",
    "#\n",
    "# # normalize input\n",
    "# img_rgb = (img_rgb / 255.).astype(np.float32)\n",
    "#\n",
    "# # convert RGB to LAB\n",
    "# img_lab = cv2.cvtColor(img_rgb, cv2.COLOR_RGB2Lab)\n",
    "# # only L channel to be used\n",
    "# img_l = img_lab[:, :, 0]\n",
    "#\n",
    "# input_img = cv2.resize(img_l, (224, 224))\n",
    "# input_img -= 50 # subtract 50 for mean-centering\n",
    "# # plot images\n",
    "# # fig = plt.figure(figsize=(10, 5))\n",
    "# # fig.add_subplot(1, 2, 1)\n",
    "# # plt.imshow(img_rgb)\n",
    "# # fig.add_subplot(1, 2, 2)\n",
    "# # plt.axis('off')\n",
    "# plt.figure(figsize=(10,10))\n",
    "# plt.imshow(input_img, cmap='gray')\n",
    "\n",
    "\n",
    "\n",
    "\n",
    "\n",
    "# import cv2\n",
    "# import face_recognition\n",
    "#\n",
    "#\n",
    "# imgmain = face_recognition.load_image_file('AB.jpg')\n",
    "# imgmain = cv2.cvtColor(imgmain, cv2.COLOR_BGR2RGB)\n",
    "# imgTest = face_recognition.load_image_file('AB.jpg')\n",
    "# imgTest = cv2.cvtColor(imgTest, cv2.COLOR_BGR2RGB)\n",
    "#\n",
    "# faceLoc = face_recognition.face_locations(imgmain)[0]\n",
    "# encodeElon = face_recognition.face_encodings(imgmain)[0]\n",
    "# cv2.rectangle(imgmain, (faceLoc[3], faceLoc[0]), (faceLoc[1], faceLoc[2]), (255, 0, 255), 2)\n",
    "#\n",
    "# faceLocTest = face_recognition.face_locations(imgTest)[0]\n",
    "# encodeTest = face_recognition.face_encodings(imgTest)[0]\n",
    "# cv2.rectangle(imgTest, (faceLocTest[3], faceLocTest[0]), (faceLocTest[1], faceLocTest[2]), (255, 0, 255), 2)\n",
    "#\n",
    "# results = face_recognition.compare_faces([encodeElon], encodeTest)\n",
    "# faceDis = face_recognition.face_distance([encodeElon], encodeTest)\n",
    "# print(results, faceDis)\n",
    "# cv2.putText(imgTest, f'{results} {round(faceDis[0], 2)}', (50, 50), cv2.FONT_HERSHEY_COMPLEX, 1, (0, 0, 255), 2)\n",
    "#\n",
    "# cv2.imshow('Main Image', imgmain)\n",
    "# cv2.imshow('Test Image', imgTest)\n",
    "# cv2.waitKey(0)\n",
    "# cv2.imshow(\"Frame\", frame)\n",
    "#\n",
    "# video_capture.release()\n",
    "# cv2.destroyAllWindows()\n",
    "#\n"
   ]
  },
  {
   "cell_type": "markdown",
   "id": "26267c70-9344-4813-8209-97e5f684a8f2",
   "metadata": {},
   "source": [
    "## FACE RECOGNITION for Video Clip"
   ]
  },
  {
   "cell_type": "code",
   "execution_count": 1,
   "id": "774e4210-c5ef-41d8-b0cf-9e7bf0fade45",
   "metadata": {},
   "outputs": [
    {
     "ename": "error",
     "evalue": "OpenCV(4.11.0) D:\\a\\opencv-python\\opencv-python\\opencv\\modules\\imgproc\\src\\color.cpp:199: error: (-215:Assertion failed) !_src.empty() in function 'cv::cvtColor'\n",
     "output_type": "error",
     "traceback": [
      "\u001b[31m---------------------------------------------------------------------------\u001b[39m",
      "\u001b[31merror\u001b[39m                                     Traceback (most recent call last)",
      "\u001b[36mCell\u001b[39m\u001b[36m \u001b[39m\u001b[32mIn[1]\u001b[39m\u001b[32m, line 11\u001b[39m\n\u001b[32m      9\u001b[39m \u001b[38;5;28;01mwhile\u001b[39;00m \u001b[38;5;28;01mTrue\u001b[39;00m:\n\u001b[32m     10\u001b[39m    success, img = cap.read()\n\u001b[32m---> \u001b[39m\u001b[32m11\u001b[39m    imgGray = \u001b[43mcv2\u001b[49m\u001b[43m.\u001b[49m\u001b[43mcvtColor\u001b[49m\u001b[43m(\u001b[49m\u001b[43mimg\u001b[49m\u001b[43m,\u001b[49m\u001b[43m \u001b[49m\u001b[43mcv2\u001b[49m\u001b[43m.\u001b[49m\u001b[43mCOLOR_BGR2GRAY\u001b[49m\u001b[43m)\u001b[49m\n\u001b[32m     12\u001b[39m  \u001b[38;5;66;03m# Getting corners around the face\u001b[39;00m\n\u001b[32m     13\u001b[39m    faces = faceCascade.detectMultiScale(imgGray, \u001b[32m1.3\u001b[39m, \u001b[32m5\u001b[39m)  \u001b[38;5;66;03m# 1.3 = scale factor, 5 = minimum neighbor\u001b[39;00m\n",
      "\u001b[31merror\u001b[39m: OpenCV(4.11.0) D:\\a\\opencv-python\\opencv-python\\opencv\\modules\\imgproc\\src\\color.cpp:199: error: (-215:Assertion failed) !_src.empty() in function 'cv::cvtColor'\n"
     ]
    }
   ],
   "source": [
    "import cv2\n",
    "\n",
    "cap = cv2.VideoCapture(\"emps.mp4\")\n",
    "cap.set(3, 640)\n",
    "cap.set(4, 420)\n",
    "# import cascade file for facial recognition\n",
    "faceCascade = cv2.CascadeClassifier\n",
    "(cv2.data.haarcascades + \"haarcascade_frontalface_default.xml\")\n",
    "\n",
    "while True:\n",
    "   success, img = cap.read()\n",
    "   imgGray = cv2.cvtColor(img, cv2.COLOR_BGR2GRAY)\n",
    " # Getting corners around the face\n",
    "   faces = faceCascade.detectMultiScale(imgGray, 1.3, 5)\n",
    " # 1.3 = scale factor, 5 = minimum neighbor\n",
    " # drawing bounding box around face\n",
    "   for (x, y, w, h) in faces:\n",
    "     img = cv2.rectangle(img, (x, y), (x + w, y + h), (0, 255, 0), 3)\n",
    "     cv2.imshow('face_detect', img)\n",
    "     if cv2.waitKey(10) & 0xFF == ord('q'):\n",
    "        break\n",
    "cap.release()\n",
    "cv2.destroyWindow('face_detect')\n"
   ]
  },
  {
   "cell_type": "code",
   "execution_count": 1,
   "id": "9f52d41c-ae2b-4b3b-8ffc-6ca25cc3a92f",
   "metadata": {},
   "outputs": [
    {
     "ename": "error",
     "evalue": "OpenCV(4.11.0) D:\\a\\opencv-python\\opencv-python\\opencv\\modules\\highgui\\src\\window.cpp:973: error: (-215:Assertion failed) size.width>0 && size.height>0 in function 'cv::imshow'\n",
     "output_type": "error",
     "traceback": [
      "\u001b[31m---------------------------------------------------------------------------\u001b[39m",
      "\u001b[31merror\u001b[39m                                     Traceback (most recent call last)",
      "\u001b[36mCell\u001b[39m\u001b[36m \u001b[39m\u001b[32mIn[1]\u001b[39m\u001b[32m, line 9\u001b[39m\n\u001b[32m      7\u001b[39m \u001b[38;5;28;01mwhile\u001b[39;00m (cap.isOpened()):\n\u001b[32m      8\u001b[39m   ret, frame = cap.read()\n\u001b[32m----> \u001b[39m\u001b[32m9\u001b[39m   \u001b[43mcv2\u001b[49m\u001b[43m.\u001b[49m\u001b[43mimshow\u001b[49m\u001b[43m(\u001b[49m\u001b[33;43m'\u001b[39;49m\u001b[33;43mActual Video\u001b[39;49m\u001b[33;43m'\u001b[39;49m\u001b[43m,\u001b[49m\u001b[43m \u001b[49m\u001b[43mframe\u001b[49m\u001b[43m)\u001b[49m\n\u001b[32m     10\u001b[39m   \u001b[38;5;28;01mif\u001b[39;00m cv2.waitKey(\u001b[32m1\u001b[39m) & \u001b[32m0xFF\u001b[39m == \u001b[38;5;28mord\u001b[39m(\u001b[33m'\u001b[39m\u001b[33mq\u001b[39m\u001b[33m'\u001b[39m):\n\u001b[32m     11\u001b[39m     \u001b[38;5;28;01mbreak\u001b[39;00m\n",
      "\u001b[31merror\u001b[39m: OpenCV(4.11.0) D:\\a\\opencv-python\\opencv-python\\opencv\\modules\\highgui\\src\\window.cpp:973: error: (-215:Assertion failed) size.width>0 && size.height>0 in function 'cv::imshow'\n"
     ]
    }
   ],
   "source": [
    "import numpy as np\n",
    "import cv2\n",
    "\n",
    "cap = cv2.VideoCapture('face.mp4')\n",
    "\n",
    "\n",
    "while (cap.isOpened()):\n",
    "  ret, frame = cap.read()\n",
    "  cv2.imshow('Actual Video', frame)\n",
    "  if cv2.waitKey(1) & 0xFF == ord('q'):\n",
    "    break\n",
    "\n",
    "while (cap.isOpened()):\n",
    "  ret, frame = cap.read()\n",
    "  gray_frame = cv2.cvtColor(frame, cv2.COLOR_BGR2GRAY)\n",
    "  cv2.imshow('Gray Video', gray_frame)\n",
    "  if cv2.waitKey(1) & 0xFF == ord('q'):\n",
    "    break\n",
    "\n",
    "while (cap.isOpened()):\n",
    "  ret, frame = cap.read()\n",
    "  gray_frame = cv2.cvtColor(frame, cv2.COLOR_BGR2GRAY)\n",
    "  edges_frame = cv2.Canny(gray_frame, 50, 150)\n",
    "  cv2.imshow('Edges Video', edges_frame)\n",
    "  if cv2.waitKey(1) & 0xFF == ord('q'):\n",
    "    break\n",
    "cap.release()\n",
    "cv2.destroyAllWindows()\n"
   ]
  },
  {
   "cell_type": "code",
   "execution_count": 2,
   "id": "0ab7a422-fc5d-4dcf-8362-ac3001cd7b8d",
   "metadata": {},
   "outputs": [],
   "source": [
    "import cv2\n",
    "import numpy as np\n",
    "\n",
    "image = cv2.imread('objects.jpg')\n",
    "cv2.waitKey(0)\n",
    "img_resized=cv2.resize(image, (540, 540),interpolation = cv2.INTER_NEAREST)\n",
    "cv2.imshow(\"Resized\",img_resized)\n",
    "\n",
    "gray = cv2.cvtColor(img_resized, cv2.COLOR_BGR2GRAY)\n",
    "\n",
    "edged = cv2.Canny(gray, 30, 200)\n",
    "cv2.waitKey(0)\n",
    "\n",
    "# Finding Contours\n",
    "# Use a copy of the image e.g. edged.copy()\n",
    "# since findContours alters the image\n",
    "contours, hierarchy = cv2.findContours(edged,\n",
    "    cv2.RETR_EXTERNAL, cv2.CHAIN_APPROX_NONE)\n",
    "\n",
    "# Draw all contours\n",
    "# -1 signifies drawing all contours\n",
    "cv2.drawContours(img_resized, contours, -1, (0, 255, 0), 2)\n",
    "\n",
    "cv2.imshow('Contours', img_resized)\n",
    "cv2.waitKey(0)\n",
    "cv2.destroyAllWindows()"
   ]
  },
  {
   "cell_type": "code",
   "execution_count": 3,
   "id": "009898fb-f106-4350-9038-b41dc66fff2e",
   "metadata": {},
   "outputs": [],
   "source": []
  }
 ],
 "metadata": {
  "kernelspec": {
   "display_name": "Python 3 (ipykernel)",
   "language": "python",
   "name": "python3"
  },
  "language_info": {
   "codemirror_mode": {
    "name": "ipython",
    "version": 3
   },
   "file_extension": ".py",
   "mimetype": "text/x-python",
   "name": "python",
   "nbconvert_exporter": "python",
   "pygments_lexer": "ipython3",
   "version": "3.13.3"
  }
 },
 "nbformat": 4,
 "nbformat_minor": 5
}
