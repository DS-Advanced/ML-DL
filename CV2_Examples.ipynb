{
 "cells": [
  {
   "cell_type": "code",
   "execution_count": 3,
   "id": "3cb113ab-b52f-4f8c-bbc0-97b92c51711c",
   "metadata": {},
   "outputs": [
    {
     "name": "stderr",
     "output_type": "stream",
     "text": [
      "<>:4: SyntaxWarning: invalid escape sequence '\\i'\n",
      "<>:4: SyntaxWarning: invalid escape sequence '\\i'\n",
      "C:\\Users\\ADMIN\\AppData\\Local\\Temp\\ipykernel_16792\\1289197656.py:4: SyntaxWarning: invalid escape sequence '\\i'\n",
      "  img = cv2.imread('E:\\images\\pets.jpg',1)\n"
     ]
    }
   ],
   "source": [
    "#importing the opencv module  \n",
    "import cv2  \n",
    "# using imread('path') and 1 denotes read as  color image  \n",
    "img = cv2.imread('E:\\images\\pets.jpg',1)  \n",
    "#This is using for display the image  \n",
    "cv2.imshow('image',img)  \n",
    "cv2.waitKey() # This is necessary to be required so that the image doesn't close immediately.  \n",
    "#It will run continuously until the key press.  \n",
    "cv2.destroyAllWindows() \n",
    "\n",
    "\n"
   ]
  },
  {
   "cell_type": "markdown",
   "id": "7499ba1c-9c02-44fb-a622-5fb6829acbc1",
   "metadata": {},
   "source": [
    "### Basic Operation On images"
   ]
  },
  {
   "cell_type": "code",
   "execution_count": 9,
   "id": "9af8efcf-67c2-4f18-ab0c-678f6122225f",
   "metadata": {},
   "outputs": [
    {
     "name": "stdout",
     "output_type": "stream",
     "text": [
      "[159 189 224]\n",
      "159\n",
      "[255 255 255]\n"
     ]
    },
    {
     "name": "stderr",
     "output_type": "stream",
     "text": [
      "<>:4: SyntaxWarning: invalid escape sequence '\\i'\n",
      "<>:4: SyntaxWarning: invalid escape sequence '\\i'\n",
      "C:\\Users\\ADMIN\\AppData\\Local\\Temp\\ipykernel_16792\\3938061099.py:4: SyntaxWarning: invalid escape sequence '\\i'\n",
      "  img = cv.imread(\"E:\\images\\pets.jpg\",1)\n"
     ]
    }
   ],
   "source": [
    "import numpy as np\n",
    "import cv2 as cv\n",
    "\n",
    "img = cv.imread(\"E:\\images\\pets.jpg\",1)\n",
    "px = img[100,100]\n",
    "print( px )\n",
    "blue = img[100,100,0]\n",
    "print( blue )\n",
    "img[100,100] = [255,255,255]\n",
    "print( img[100,100] )\n"
   ]
  },
  {
   "cell_type": "markdown",
   "id": "75cf6d99-7de8-450d-9bf4-1d570ad10789",
   "metadata": {},
   "source": [
    "### Image properties, Splitting and Merging Image Channels"
   ]
  },
  {
   "cell_type": "code",
   "execution_count": 16,
   "id": "ad62189a-ceb0-43da-a897-98829257ae27",
   "metadata": {},
   "outputs": [
    {
     "name": "stderr",
     "output_type": "stream",
     "text": [
      "<>:4: SyntaxWarning: invalid escape sequence '\\i'\n",
      "<>:4: SyntaxWarning: invalid escape sequence '\\i'\n",
      "C:\\Users\\ADMIN\\AppData\\Local\\Temp\\ipykernel_16792\\1590034590.py:4: SyntaxWarning: invalid escape sequence '\\i'\n",
      "  img = cv.imread(\"E:\\images\\pets.jpg\",1)\n"
     ]
    },
    {
     "name": "stdout",
     "output_type": "stream",
     "text": [
      "(360, 779, 3)\n",
      "841320\n",
      "uint8\n"
     ]
    }
   ],
   "source": [
    "import numpy as np\n",
    "import cv2 as cv\n",
    "\n",
    "img = cv.imread(\"E:\\images\\pets.jpg\",1)\n",
    "print( img.shape )\n",
    "print( img.size )\n",
    "print( img.dtype )\n",
    "\n",
    "b,g,r = cv.split(img)\n",
    "img = cv.merge((b,g,r))\n",
    "b = img[:,:,0]\n",
    "g = img[:,:,1]\n",
    "r = img[:,:,2]\n",
    "\n",
    "cv2.imshow('image',img)  \n",
    "cv2.waitKey()  \n",
    "cv2.destroyAllWindows() "
   ]
  },
  {
   "cell_type": "markdown",
   "id": "75bbaa6f-057b-4370-a486-ddaa5775048c",
   "metadata": {},
   "source": [
    "### change pixel size of an Image"
   ]
  },
  {
   "cell_type": "code",
   "execution_count": 19,
   "id": "351d25c4-0ef8-42e0-8ecc-30ce60591c22",
   "metadata": {},
   "outputs": [
    {
     "name": "stderr",
     "output_type": "stream",
     "text": [
      "<>:4: SyntaxWarning: invalid escape sequence '\\i'\n",
      "<>:4: SyntaxWarning: invalid escape sequence '\\i'\n",
      "C:\\Users\\ADMIN\\AppData\\Local\\Temp\\ipykernel_16792\\3485127761.py:4: SyntaxWarning: invalid escape sequence '\\i'\n",
      "  img = cv2.imread('E:\\images\\pets.jpg',1)\n"
     ]
    },
    {
     "name": "stdout",
     "output_type": "stream",
     "text": [
      "(360, 779, 3)\n"
     ]
    }
   ],
   "source": [
    "import cv2\n",
    "import numpy as np\n",
    "\n",
    "img = cv2.imread('E:\\images\\pets.jpg',1)\n",
    "print(img.shape)\n",
    "img_resized=cv2.resize(img, (540, 540),\n",
    "                       interpolation = cv2.INTER_NEAREST)\n",
    "#cv2.imshow('image',img)  \n",
    "cv2.imshow(\"Resized\",img_resized)\n",
    "cv2.waitKey(0)\n",
    "cv2.destroyAllWindows()\n"
   ]
  },
  {
   "cell_type": "markdown",
   "id": "6d307531-44cf-47dd-87c0-47d752506b78",
   "metadata": {},
   "source": [
    "### OpenCV Image Rotation\n"
   ]
  },
  {
   "cell_type": "code",
   "execution_count": null,
   "id": "b686b504-5eca-445a-af88-a5504c993d92",
   "metadata": {},
   "outputs": [
    {
     "name": "stderr",
     "output_type": "stream",
     "text": [
      "<>:3: SyntaxWarning: invalid escape sequence '\\i'\n",
      "<>:3: SyntaxWarning: invalid escape sequence '\\i'\n",
      "C:\\Users\\ADMIN\\AppData\\Local\\Temp\\ipykernel_14788\\1954415003.py:3: SyntaxWarning: invalid escape sequence '\\i'\n",
      "  img = cv2.imread('E:\\images\\pets.jpg',1)\n"
     ]
    }
   ],
   "source": [
    "import cv2\n",
    "\n",
    "img = cv2.imread('E:\\images\\pets.jpg',1)\n",
    "cv2.imshow(\"Actual Image\",img)\n",
    "img = cv2.rotate(img, cv2.ROTATE_180) \n",
    "cv2.imshow(\"Rotated Image\",img)\n",
    "cv2.waitKey(0)\n",
    "cv2.destroyAllWindows()\n"
   ]
  },
  {
   "cell_type": "markdown",
   "id": "eba593f7-2a08-46c4-af47-ff33d27eba7b",
   "metadata": {},
   "source": [
    "### Image Rotation \n"
   ]
  },
  {
   "cell_type": "code",
   "execution_count": 6,
   "id": "c328114f-9666-4950-bdb2-f1618bd71ee3",
   "metadata": {},
   "outputs": [
    {
     "name": "stderr",
     "output_type": "stream",
     "text": [
      "<>:4: SyntaxWarning: invalid escape sequence '\\i'\n",
      "<>:4: SyntaxWarning: invalid escape sequence '\\i'\n",
      "C:\\Users\\ADMIN\\AppData\\Local\\Temp\\ipykernel_13168\\1951746009.py:4: SyntaxWarning: invalid escape sequence '\\i'\n",
      "  img = cv2.imread('E:\\images\\pets.jpg',1)\n"
     ]
    }
   ],
   "source": [
    "import cv2\n",
    "import numpy as np\n",
    "\n",
    "img = cv2.imread('E:\\images\\pets.jpg',1)  \n",
    "(h, w) = img.shape[:2]\n",
    "center = (w / 2, h / 2)\n",
    "scale = 1.0\n",
    "M = cv2.getRotationMatrix2D(center, 45, scale)\n",
    "rotated45 = cv2.warpAffine(img, M, (h, w))\n",
    "M = cv2.getRotationMatrix2D(center,110, scale)\n",
    "rotated110 = cv2.warpAffine(img, M, (w, h))\n",
    "M = cv2.getRotationMatrix2D(center, 150, scale)\n",
    "rotated150 = cv2.warpAffine(img, M, (h, w))\n",
    "  \n",
    "cv2.imshow('Original Image',img)\n",
    "cv2.imshow('Image rotated by 45 degrees',rotated45)\n",
    "cv2.imshow('Image rotated by 110 degrees',rotated110)\n",
    "cv2.imshow('Image rotated by 150 degrees',rotated150)\n",
    "cv2.waitKey(0) \n",
    "cv2.destroyAllWindows() \n"
   ]
  },
  {
   "cell_type": "markdown",
   "id": "df7bda25-2cb3-428c-a304-28e63136c869",
   "metadata": {},
   "source": [
    "### OpenCV Drawing Functions"
   ]
  },
  {
   "cell_type": "code",
   "execution_count": 12,
   "id": "af76c865-1a8f-42e8-9755-5801bd26f0b7",
   "metadata": {},
   "outputs": [
    {
     "name": "stderr",
     "output_type": "stream",
     "text": [
      "<>:3: SyntaxWarning: invalid escape sequence '\\i'\n",
      "<>:3: SyntaxWarning: invalid escape sequence '\\i'\n",
      "C:\\Users\\ADMIN\\AppData\\Local\\Temp\\ipykernel_13168\\1322255919.py:3: SyntaxWarning: invalid escape sequence '\\i'\n",
      "  img = cv2.imread('E:\\images\\pets.jpg', 1)\n"
     ]
    }
   ],
   "source": [
    "import numpy as np  \n",
    "import cv2  \n",
    "img = cv2.imread('E:\\images\\pets.jpg', 1)  \n",
    "# Circle\n",
    "cv2.circle(img,(80,80), 55, (255,0,0), -1)  \n",
    "cv2.imshow('image',img)  \n",
    "# Rectangle\n",
    "cv2.rectangle(img,(15,25),(200,150),(0,0,255),5)  \n",
    "cv2.imshow('image',img)  \n",
    "# Polylines\n",
    "pts = np.array([[100,50],[200,300],[700,200],[500,100]], \n",
    "               np.int32)  \n",
    "cv2.polylines(img, [pts], True, (0,255,0), 3)  \n",
    "cv2.imshow('image',img)  \n",
    "cv2.waitKey(0)  \n",
    "cv2.destroyAllWindows() \n"
   ]
  },
  {
   "cell_type": "markdown",
   "id": "f9e4361a-9973-48f1-85df-d1ccc620f3b5",
   "metadata": {},
   "source": [
    "#### Write text on an image"
   ]
  },
  {
   "cell_type": "code",
   "execution_count": 14,
   "id": "76564c62-0a7f-4bca-86de-f149e886e5cb",
   "metadata": {},
   "outputs": [
    {
     "name": "stderr",
     "output_type": "stream",
     "text": [
      "<>:4: SyntaxWarning: invalid escape sequence '\\i'\n",
      "<>:4: SyntaxWarning: invalid escape sequence '\\i'\n",
      "C:\\Users\\ADMIN\\AppData\\Local\\Temp\\ipykernel_13168\\362121491.py:4: SyntaxWarning: invalid escape sequence '\\i'\n",
      "  img = cv2.imread('E:\\images\\pets.jpg',1)\n"
     ]
    },
    {
     "data": {
      "text/plain": [
       "-1"
      ]
     },
     "execution_count": 14,
     "metadata": {},
     "output_type": "execute_result"
    }
   ],
   "source": [
    "import numpy as np\n",
    "import cv2\n",
    "font = cv2.FONT_HERSHEY_SIMPLEX\n",
    "img = cv2.imread('E:\\images\\pets.jpg',1)\n",
    "cv2.putText(img,'Dog',(60,50), font, 1,(255,0,0),2)\n",
    "cv2.putText(img,'Parrot',(150,90), font, 1,(0,255,0),2)\n",
    "cv2.putText(img,'rabbit',(210,50), font, 1,(0,0,255),2)\n",
    "cv2.putText(img,'Cat',(360,90), font, 1,(255,0,255),2)\n",
    "\n",
    "cv2.imshow(\"image\",img)\n",
    "cv2.waitKey(0)\n"
   ]
  },
  {
   "cell_type": "markdown",
   "id": "c5925733-3f3b-40b3-8814-5a079bcce7c8",
   "metadata": {},
   "source": [
    "### Canny Edge Detection"
   ]
  },
  {
   "cell_type": "code",
   "execution_count": 18,
   "id": "ff61400c-62c9-46fb-94da-d15d61487719",
   "metadata": {},
   "outputs": [
    {
     "name": "stderr",
     "output_type": "stream",
     "text": [
      "<>:2: SyntaxWarning: invalid escape sequence '\\i'\n",
      "<>:2: SyntaxWarning: invalid escape sequence '\\i'\n",
      "C:\\Users\\ADMIN\\AppData\\Local\\Temp\\ipykernel_13168\\334222573.py:2: SyntaxWarning: invalid escape sequence '\\i'\n",
      "  img = cv2.imread('E:\\images\\pets.jpg')\n"
     ]
    }
   ],
   "source": [
    "import cv2\n",
    "img = cv2.imread('E:\\images\\pets.jpg')\n",
    "edges = cv2.Canny(img,200,300,True)\n",
    "cv2.imshow(\"Edge Detected Image\", edges)  \n",
    "cv2.imshow(\"Original Image\", img)  \n",
    "cv2.waitKey(0)  # waits until a key is pressed  \n",
    "cv2.destroyAllWindows()  \n"
   ]
  },
  {
   "cell_type": "markdown",
   "id": "f9cc9702-4780-4000-9274-b000e8e2030d",
   "metadata": {},
   "source": [
    "### OpenCV Image Smoothing"
   ]
  },
  {
   "cell_type": "code",
   "execution_count": 21,
   "id": "a60e573e-581a-459c-9895-3b93b3692de8",
   "metadata": {},
   "outputs": [
    {
     "name": "stderr",
     "output_type": "stream",
     "text": [
      "<>:2: SyntaxWarning: invalid escape sequence '\\i'\n",
      "<>:2: SyntaxWarning: invalid escape sequence '\\i'\n",
      "C:\\Users\\ADMIN\\AppData\\Local\\Temp\\ipykernel_13168\\2439102606.py:2: SyntaxWarning: invalid escape sequence '\\i'\n",
      "  img = cv2.imread('E:\\images\\pets.jpg')\n"
     ]
    }
   ],
   "source": [
    "import cv2\n",
    "img = cv2.imread('E:\\images\\pets.jpg')\n",
    "cv2.imshow('Original Image',img)  \n",
    "cv2.imshow('cv2.blur output', cv2.blur(img, (3,3)))\n",
    "cv2.imshow('cv2.medianBlur output', cv2.medianBlur(img,5))\n",
    "cv2.imshow('cv2.GaussianBlur output', \n",
    "           cv2.GaussianBlur(img, (5, 5), cv2.BORDER_DEFAULT))\n",
    "cv2.imshow('bilateral Image', cv2.bilateralFilter(img,9,75,75))\n",
    "cv2.waitKey(0)\n",
    "cv2.destroyAllWindows()\n",
    " \n"
   ]
  },
  {
   "cell_type": "code",
   "execution_count": 25,
   "id": "1d12f7af-1053-4fa9-abe9-f5e97fa8d328",
   "metadata": {},
   "outputs": [
    {
     "name": "stderr",
     "output_type": "stream",
     "text": [
      "<>:4: SyntaxWarning: invalid escape sequence '\\i'\n",
      "<>:4: SyntaxWarning: invalid escape sequence '\\i'\n",
      "C:\\Users\\ADMIN\\AppData\\Local\\Temp\\ipykernel_13168\\2681380214.py:4: SyntaxWarning: invalid escape sequence '\\i'\n",
      "  image = cv2.imread('E:\\images\\cars.jpg', 1)\n",
      "C:\\Users\\ADMIN\\AppData\\Local\\Temp\\ipykernel_13168\\2681380214.py:4: SyntaxWarning: invalid escape sequence '\\i'\n",
      "  image = cv2.imread('E:\\images\\cars.jpg', 1)\n"
     ]
    },
    {
     "ename": "error",
     "evalue": "OpenCV(4.11.0) D:\\a\\opencv-python\\opencv-python\\opencv\\modules\\highgui\\src\\window.cpp:973: error: (-215:Assertion failed) size.width>0 && size.height>0 in function 'cv::imshow'\n",
     "output_type": "error",
     "traceback": [
      "\u001b[31m---------------------------------------------------------------------------\u001b[39m",
      "\u001b[31merror\u001b[39m                                     Traceback (most recent call last)",
      "\u001b[36mCell\u001b[39m\u001b[36m \u001b[39m\u001b[32mIn[25]\u001b[39m\u001b[32m, line 13\u001b[39m\n\u001b[32m      9\u001b[39m \u001b[38;5;66;03m# Finding Contours\u001b[39;00m\n\u001b[32m     10\u001b[39m \u001b[38;5;66;03m# Use a copy of the image e.g. edged.copy()\u001b[39;00m\n\u001b[32m     11\u001b[39m \u001b[38;5;66;03m# since findContours alters the image\u001b[39;00m\n\u001b[32m     12\u001b[39m contours, hierarchy = cv2.findContours(edged,cv2.RETR_EXTERNAL, cv2.CHAIN_APPROX_NONE)\n\u001b[32m---> \u001b[39m\u001b[32m13\u001b[39m \u001b[43mcv2\u001b[49m\u001b[43m.\u001b[49m\u001b[43mimshow\u001b[49m\u001b[43m(\u001b[49m\u001b[33;43m'\u001b[39;49m\u001b[33;43mOriginal\u001b[39;49m\u001b[33;43m'\u001b[39;49m\u001b[43m,\u001b[49m\u001b[43m \u001b[49m\u001b[43mimage\u001b[49m\u001b[43m)\u001b[49m\n\u001b[32m     14\u001b[39m cv2.imshow(\u001b[33m'\u001b[39m\u001b[33mCanny Edges After Contouring\u001b[39m\u001b[33m'\u001b[39m, edged)\n\u001b[32m     15\u001b[39m cv2.drawContours(image, contours, -\u001b[32m1\u001b[39m, (\u001b[32m0\u001b[39m, \u001b[32m255\u001b[39m, \u001b[32m0\u001b[39m), \u001b[32m3\u001b[39m)\n",
      "\u001b[31merror\u001b[39m: OpenCV(4.11.0) D:\\a\\opencv-python\\opencv-python\\opencv\\modules\\highgui\\src\\window.cpp:973: error: (-215:Assertion failed) size.width>0 && size.height>0 in function 'cv::imshow'\n"
     ]
    }
   ],
   "source": [
    "import cv2\n",
    "import numpy as np\n",
    "\n",
    "image = cv2.imread('E:\\images\\cars.jpg', 1)\n",
    "# Find Canny edges\n",
    "edged = cv2.Canny(image, 30, 200)\n",
    "cv2.waitKey(0)\n",
    "\n",
    "# Finding Contours\n",
    "# Use a copy of the image e.g. edged.copy()\n",
    "# since findContours alters the image\n",
    "contours, hierarchy = cv2.findContours(edged,cv2.RETR_EXTERNAL, cv2.CHAIN_APPROX_NONE)\n",
    "cv2.imshow('Original', image)\n",
    "cv2.imshow('Canny Edges After Contouring', edged)\n",
    "cv2.drawContours(image, contours, -1, (0, 255, 0), 3)\n",
    "cv2.imshow('Contours', image)\n",
    "cv2.waitKey(0)\n",
    "cv2.destroyAllWindows()\n"
   ]
  },
  {
   "cell_type": "markdown",
   "id": "e68fe93e-cc96-4891-96a7-28f725fbd151",
   "metadata": {},
   "source": [
    "### OpenCV Video Capture\n"
   ]
  },
  {
   "cell_type": "code",
   "execution_count": 3,
   "id": "3e03b77a-f2aa-42b9-ab75-c28aad1b3b3f",
   "metadata": {},
   "outputs": [
    {
     "name": "stderr",
     "output_type": "stream",
     "text": [
      "<>:5: SyntaxWarning: invalid escape sequence '\\i'\n",
      "<>:5: SyntaxWarning: invalid escape sequence '\\i'\n",
      "C:\\Users\\ADMIN\\AppData\\Local\\Temp\\ipykernel_1964\\4122492975.py:5: SyntaxWarning: invalid escape sequence '\\i'\n",
      "  cap = cv2.VideoCapture('E:\\images\\BigBuck_Video.avi')\n"
     ]
    },
    {
     "ename": "error",
     "evalue": "OpenCV(4.11.0) D:\\a\\opencv-python\\opencv-python\\opencv\\modules\\highgui\\src\\window.cpp:973: error: (-215:Assertion failed) size.width>0 && size.height>0 in function 'cv::imshow'\n",
     "output_type": "error",
     "traceback": [
      "\u001b[31m---------------------------------------------------------------------------\u001b[39m",
      "\u001b[31merror\u001b[39m                                     Traceback (most recent call last)",
      "\u001b[36mCell\u001b[39m\u001b[36m \u001b[39m\u001b[32mIn[3]\u001b[39m\u001b[32m, line 9\u001b[39m\n\u001b[32m      7\u001b[39m \u001b[38;5;28;01mwhile\u001b[39;00m (cap.isOpened()):\n\u001b[32m      8\u001b[39m   ret, frame = cap.read()\n\u001b[32m----> \u001b[39m\u001b[32m9\u001b[39m   \u001b[43mcv2\u001b[49m\u001b[43m.\u001b[49m\u001b[43mimshow\u001b[49m\u001b[43m(\u001b[49m\u001b[33;43m'\u001b[39;49m\u001b[33;43mframe\u001b[39;49m\u001b[33;43m'\u001b[39;49m\u001b[43m,\u001b[49m\u001b[43m \u001b[49m\u001b[43mframe\u001b[49m\u001b[43m)\u001b[49m\n\u001b[32m     10\u001b[39m   \u001b[38;5;28;01mif\u001b[39;00m cv2.waitKey(\u001b[32m1\u001b[39m) & \u001b[32m0xFF\u001b[39m == \u001b[38;5;28mord\u001b[39m(\u001b[33m'\u001b[39m\u001b[33mq\u001b[39m\u001b[33m'\u001b[39m):\n\u001b[32m     11\u001b[39m     \u001b[38;5;28;01mbreak\u001b[39;00m\n",
      "\u001b[31merror\u001b[39m: OpenCV(4.11.0) D:\\a\\opencv-python\\opencv-python\\opencv\\modules\\highgui\\src\\window.cpp:973: error: (-215:Assertion failed) size.width>0 && size.height>0 in function 'cv::imshow'\n"
     ]
    }
   ],
   "source": [
    "import numpy as np\n",
    "import cv2\n",
    "\n",
    "# cap = cv2.VideoCapture(0)   <---- capture video from webcam\n",
    "cap = cv2.VideoCapture('E:\\images\\BigBuck_Video.avi')\n",
    "\n",
    "while (cap.isOpened()):\n",
    "  ret, frame = cap.read()\n",
    "  cv2.imshow('frame', frame)\n",
    "  if cv2.waitKey(1) & 0xFF == ord('q'):\n",
    "    break\n",
    "\n",
    "cap.release()\n",
    "cv2.destroyAllWindows()\n"
   ]
  },
  {
   "cell_type": "markdown",
   "id": "c85e1c99-63df-4a5e-8cde-d40a97658691",
   "metadata": {},
   "source": [
    "### OpenCV Video convert into Gray and Canny Edge format"
   ]
  },
  {
   "cell_type": "code",
   "execution_count": 5,
   "id": "1e2ce867-0956-4a79-9941-be5fd706b601",
   "metadata": {},
   "outputs": [
    {
     "name": "stderr",
     "output_type": "stream",
     "text": [
      "<>:4: SyntaxWarning: invalid escape sequence '\\i'\n",
      "<>:4: SyntaxWarning: invalid escape sequence '\\i'\n",
      "C:\\Users\\ADMIN\\AppData\\Local\\Temp\\ipykernel_6316\\2032852486.py:4: SyntaxWarning: invalid escape sequence '\\i'\n",
      "  cap = cv2.VideoCapture('E:\\images\\BigBuck_Video.avi')\n"
     ]
    },
    {
     "ename": "error",
     "evalue": "OpenCV(4.11.0) D:\\a\\opencv-python\\opencv-python\\opencv\\modules\\imgproc\\src\\color.cpp:199: error: (-215:Assertion failed) !_src.empty() in function 'cv::cvtColor'\n",
     "output_type": "error",
     "traceback": [
      "\u001b[31m---------------------------------------------------------------------------\u001b[39m",
      "\u001b[31merror\u001b[39m                                     Traceback (most recent call last)",
      "\u001b[36mCell\u001b[39m\u001b[36m \u001b[39m\u001b[32mIn[5]\u001b[39m\u001b[32m, line 8\u001b[39m\n\u001b[32m      6\u001b[39m \u001b[38;5;28;01mwhile\u001b[39;00m (cap.isOpened()):\n\u001b[32m      7\u001b[39m   ret, frame = cap.read()\n\u001b[32m----> \u001b[39m\u001b[32m8\u001b[39m   gray = \u001b[43mcv2\u001b[49m\u001b[43m.\u001b[49m\u001b[43mcvtColor\u001b[49m\u001b[43m(\u001b[49m\u001b[43mframe\u001b[49m\u001b[43m,\u001b[49m\u001b[43m \u001b[49m\u001b[43mcv2\u001b[49m\u001b[43m.\u001b[49m\u001b[43mCOLOR_BGR2GRAY\u001b[49m\u001b[43m)\u001b[49m\n\u001b[32m      9\u001b[39m   edges = cv2.Canny(gray,\u001b[32m200\u001b[39m,\u001b[32m300\u001b[39m,\u001b[38;5;28;01mTrue\u001b[39;00m)\n\u001b[32m     10\u001b[39m   cv2.imshow(\u001b[33m'\u001b[39m\u001b[33mframe\u001b[39m\u001b[33m'\u001b[39m, edges)\n",
      "\u001b[31merror\u001b[39m: OpenCV(4.11.0) D:\\a\\opencv-python\\opencv-python\\opencv\\modules\\imgproc\\src\\color.cpp:199: error: (-215:Assertion failed) !_src.empty() in function 'cv::cvtColor'\n"
     ]
    }
   ],
   "source": [
    "import numpy as np\n",
    "import cv2\n",
    "\n",
    "cap = cv2.VideoCapture('E:\\images\\BigBuck_Video.avi')\n",
    "\n",
    "while (cap.isOpened()):\n",
    "#  to capture Frame\n",
    "  ret, frame = cap.read()\n",
    "#  to convert into Gray color\n",
    "  gray = cv2.cvtColor(frame, cv2.COLOR_BGR2GRAY)\n",
    "#  to conert to Canny Edge format\n",
    "  edges = cv2.Canny(gray,200,300,True)\n",
    "  cv2.imshow('frame', edges)\n",
    "  if cv2.waitKey(1) & 0xFF == ord('q'):\n",
    "    break\n",
    "\n",
    "cap.release()\n",
    "cv2.destroyAllWindows()"
   ]
  },
  {
   "cell_type": "markdown",
   "id": "8d401ced-2b02-4bdc-928b-b7b01c4d1107",
   "metadata": {},
   "source": [
    "### to Capture a Video from Web-cam and write into a file"
   ]
  },
  {
   "cell_type": "code",
   "execution_count": null,
   "id": "bc312e87-62bb-4321-b092-5d4408b63086",
   "metadata": {},
   "outputs": [],
   "source": [
    "import numpy as np\n",
    "import cv2\n",
    " \n",
    "cap = cv2.VideoCapture(0)\n",
    "# Define the codec and create VideoWriter object\n",
    "fourcc = cv2.VideoWriter_fourcc(*'XVID')\n",
    "out = cv2.VideoWriter('E:\\images\\output.avi',fourcc, 20.0, (640,480))\n",
    " \n",
    "while(cap.isOpened()):\n",
    "    ret, frame = cap.read()\n",
    "    if ret==True:\n",
    "        frame = cv2.flip(frame,0)\n",
    " \n",
    "        # write the flipped frame\n",
    "        out.write(frame)\n",
    " \n",
    "        cv2.imshow('frame',frame)\n",
    "        if cv2.waitKey(1) & 0xFF == ord('q'):\n",
    "            break\n",
    "    else:\n",
    "        break\n",
    " \n",
    "# Release everything if job is finished\n",
    "cap.release()\n",
    "out.release()\n",
    "cv2.destroyAllWindows()\n"
   ]
  }
 ],
 "metadata": {
  "kernelspec": {
   "display_name": "Python 3 (ipykernel)",
   "language": "python",
   "name": "python3"
  },
  "language_info": {
   "codemirror_mode": {
    "name": "ipython",
    "version": 3
   },
   "file_extension": ".py",
   "mimetype": "text/x-python",
   "name": "python",
   "nbconvert_exporter": "python",
   "pygments_lexer": "ipython3",
   "version": "3.13.3"
  }
 },
 "nbformat": 4,
 "nbformat_minor": 5
}
